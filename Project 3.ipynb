{
 "cells": [
  {
   "cell_type": "markdown",
   "metadata": {},
   "source": [
    "## Importing libaries\n",
    "---\n",
    "\n",
    "We'll need the following libraries for this project:"
   ]
  },
  {
   "cell_type": "code",
   "execution_count": 1,
   "metadata": {},
   "outputs": [],
   "source": [
    "import matplotlib.pyplot as plt\n",
    "import numpy as np\n",
    "import pandas as pd\n",
    "import random\n",
    "import regex as re\n",
    "import requests\n",
    "import seaborn as sns\n",
    "import time\n",
    "%matplotlib inline\n",
    "%config IPCompleter.greedy=True\n",
    "\n",
    "from bs4 import BeautifulSoup         \n",
    "from nltk.corpus import stopwords\n",
    "from nltk.stem.porter import PorterStemmer\n",
    "from sklearn.ensemble import VotingClassifier\n",
    "from sklearn.feature_extraction.text import CountVectorizer\n",
    "from sklearn.linear_model import LogisticRegression\n",
    "from sklearn.metrics import confusion_matrix\n",
    "from sklearn.model_selection import train_test_split, cross_val_score, train_test_split, GridSearchCV\n",
    "from sklearn.naive_bayes import MultinomialNB\n",
    "from sklearn.pipeline import Pipeline"
   ]
  },
  {
   "cell_type": "markdown",
   "metadata": {},
   "source": [
    "## Data Gathering\n",
    "---\n",
    "\n",
    "Two (2) Sub-Reddits are chosen for this project: Final Fantasy VII Remake (`FFVIIRemake`), and Final Fantasy XV (`FFXV`). The following section gathers data using the `requests` library from Reddit API."
   ]
  },
  {
   "cell_type": "code",
   "execution_count": 2,
   "metadata": {},
   "outputs": [],
   "source": [
    "#Url definitions of the Sub-Reddits\n",
    "url1 = 'https://www.reddit.com/r/FFVIIRemake.json'\n",
    "url2 = 'https://www.reddit.com/r/FFXV.json'"
   ]
  },
  {
   "cell_type": "code",
   "execution_count": 3,
   "metadata": {
    "scrolled": true
   },
   "outputs": [
    {
     "name": "stdout",
     "output_type": "stream",
     "text": [
      "https://www.reddit.com/r/FFVIIRemake.json\n",
      "https://www.reddit.com/r/FFVIIRemake.json?after=t3_evco4j\n",
      "https://www.reddit.com/r/FFVIIRemake.json?after=t3_es1zam\n",
      "https://www.reddit.com/r/FFVIIRemake.json?after=t3_eqy94e\n",
      "https://www.reddit.com/r/FFVIIRemake.json?after=t3_eppox5\n",
      "https://www.reddit.com/r/FFVIIRemake.json?after=t3_eoiiyc\n",
      "https://www.reddit.com/r/FFVIIRemake.json?after=t3_envoxz\n",
      "https://www.reddit.com/r/FFVIIRemake.json?after=t3_emjekg\n",
      "https://www.reddit.com/r/FFVIIRemake.json?after=t3_elocvv\n",
      "https://www.reddit.com/r/FFVIIRemake.json?after=t3_elmhlv\n",
      "https://www.reddit.com/r/FFVIIRemake.json?after=t3_ekk7fx\n",
      "https://www.reddit.com/r/FFVIIRemake.json?after=t3_ejqc76\n",
      "https://www.reddit.com/r/FFVIIRemake.json?after=t3_ej3gka\n",
      "https://www.reddit.com/r/FFVIIRemake.json?after=t3_eiou64\n",
      "https://www.reddit.com/r/FFVIIRemake.json?after=t3_eiof15\n",
      "https://www.reddit.com/r/FFVIIRemake.json?after=t3_ehcrva\n",
      "https://www.reddit.com/r/FFVIIRemake.json?after=t3_eg01jj\n",
      "https://www.reddit.com/r/FFVIIRemake.json?after=t3_eelb0v\n",
      "https://www.reddit.com/r/FFVIIRemake.json?after=t3_ede0pq\n",
      "https://www.reddit.com/r/FFVIIRemake.json?after=t3_ecxcqi\n",
      "https://www.reddit.com/r/FFVIIRemake.json?after=t3_ec8onb\n",
      "https://www.reddit.com/r/FFVIIRemake.json?after=t3_ebnncm\n",
      "https://www.reddit.com/r/FFVIIRemake.json?after=t3_ebja3r\n",
      "https://www.reddit.com/r/FFVIIRemake.json?after=t3_eagip4\n",
      "https://www.reddit.com/r/FFVIIRemake.json?after=t3_ea108p\n",
      "https://www.reddit.com/r/FFVIIRemake.json?after=t3_e9rivp\n",
      "https://www.reddit.com/r/FFVIIRemake.json?after=t3_e8mgk0\n",
      "https://www.reddit.com/r/FFVIIRemake.json?after=t3_e66v22\n",
      "https://www.reddit.com/r/FFVIIRemake.json?after=t3_e5ph82\n",
      "https://www.reddit.com/r/FFVIIRemake.json?after=t3_e44d1l\n",
      "https://www.reddit.com/r/FFVIIRemake.json?after=t3_e311zv\n",
      "https://www.reddit.com/r/FFVIIRemake.json?after=t3_e2idgd\n",
      "https://www.reddit.com/r/FFVIIRemake.json?after=t3_e1o9zv\n",
      "https://www.reddit.com/r/FFVIIRemake.json?after=t3_dzmd18\n",
      "https://www.reddit.com/r/FFVIIRemake.json?after=t3_dwmvye\n",
      "https://www.reddit.com/r/FFVIIRemake.json?after=t3_dtxezu\n",
      "https://www.reddit.com/r/FFVIIRemake.json?after=t3_dqltpk\n",
      "https://www.reddit.com/r/FFVIIRemake.json?after=t3_do0bit\n",
      "https://www.reddit.com/r/FFVIIRemake.json?after=t3_dki2is\n",
      "https://www.reddit.com/r/FFVIIRemake.json?after=t3_di51yn\n",
      "https://www.reddit.com/r/FFVIIRemake.json\n",
      "https://www.reddit.com/r/FFVIIRemake.json?after=t3_evco4j\n",
      "https://www.reddit.com/r/FFVIIRemake.json?after=t3_es1zam\n",
      "https://www.reddit.com/r/FFVIIRemake.json?after=t3_eqy94e\n",
      "https://www.reddit.com/r/FFVIIRemake.json?after=t3_eppox5\n"
     ]
    }
   ],
   "source": [
    "#Data Gathering for FFVIRemake\n",
    "posts = []\n",
    "after = None\n",
    "\n",
    "for a in range(45):\n",
    "    if after == None:\n",
    "        current_url = url1\n",
    "    else:\n",
    "        current_url = url1 + '?after=' + after\n",
    "    print(current_url)\n",
    "    #Gather data using requests library\n",
    "    res = requests.get(current_url, headers={'User-agent': 'Pony Inc 1.0'})\n",
    "    \n",
    "    if res.status_code != 200:\n",
    "        print('Status error', res.status_code)\n",
    "        break\n",
    "    \n",
    "    current_dict = res.json()\n",
    "    current_posts = [p['data'] for p in current_dict['data']['children']]\n",
    "    posts.extend(current_posts)\n",
    "    after = current_dict['data']['after']\n",
    "    \n",
    "    if a > 0:\n",
    "        prev_posts = pd.read_csv('ffviir.csv')\n",
    "        current_df = pd.DataFrame()\n",
    "        \n",
    "    else:\n",
    "        pd.DataFrame(posts).to_csv('ffviir.csv', index = False)\n",
    "\n",
    "    # generate a random sleep duration to look more 'natural'\n",
    "    sleep_duration = random.randint(2,6)\n",
    "    # print(sleep_duration)\n",
    "    time.sleep(sleep_duration)"
   ]
  },
  {
   "cell_type": "code",
   "execution_count": 4,
   "metadata": {},
   "outputs": [
    {
     "name": "stdout",
     "output_type": "stream",
     "text": [
      "Total number of Sub-Reddit Posts: 1119\n"
     ]
    },
    {
     "data": {
      "text/html": [
       "<div>\n",
       "<style scoped>\n",
       "    .dataframe tbody tr th:only-of-type {\n",
       "        vertical-align: middle;\n",
       "    }\n",
       "\n",
       "    .dataframe tbody tr th {\n",
       "        vertical-align: top;\n",
       "    }\n",
       "\n",
       "    .dataframe thead th {\n",
       "        text-align: right;\n",
       "    }\n",
       "</style>\n",
       "<table border=\"1\" class=\"dataframe\">\n",
       "  <thead>\n",
       "    <tr style=\"text-align: right;\">\n",
       "      <th></th>\n",
       "      <th>approved_at_utc</th>\n",
       "      <th>subreddit</th>\n",
       "      <th>selftext</th>\n",
       "      <th>author_fullname</th>\n",
       "      <th>saved</th>\n",
       "      <th>mod_reason_title</th>\n",
       "      <th>gilded</th>\n",
       "      <th>clicked</th>\n",
       "      <th>title</th>\n",
       "      <th>link_flair_richtext</th>\n",
       "      <th>...</th>\n",
       "      <th>created_utc</th>\n",
       "      <th>num_crossposts</th>\n",
       "      <th>media</th>\n",
       "      <th>is_video</th>\n",
       "      <th>post_hint</th>\n",
       "      <th>preview</th>\n",
       "      <th>media_metadata</th>\n",
       "      <th>crosspost_parent_list</th>\n",
       "      <th>crosspost_parent</th>\n",
       "      <th>author_cakeday</th>\n",
       "    </tr>\n",
       "  </thead>\n",
       "  <tbody>\n",
       "    <tr>\n",
       "      <th>0</th>\n",
       "      <td>None</td>\n",
       "      <td>FFVIIRemake</td>\n",
       "      <td>This, here, and only here, will be where talk ...</td>\n",
       "      <td>t2_yfvhs</td>\n",
       "      <td>False</td>\n",
       "      <td>None</td>\n",
       "      <td>0</td>\n",
       "      <td>False</td>\n",
       "      <td>Spoiler containment unit: Abandon all hope ye ...</td>\n",
       "      <td>[]</td>\n",
       "      <td>...</td>\n",
       "      <td>1.577938e+09</td>\n",
       "      <td>0</td>\n",
       "      <td>None</td>\n",
       "      <td>False</td>\n",
       "      <td>NaN</td>\n",
       "      <td>NaN</td>\n",
       "      <td>NaN</td>\n",
       "      <td>NaN</td>\n",
       "      <td>NaN</td>\n",
       "      <td>NaN</td>\n",
       "    </tr>\n",
       "    <tr>\n",
       "      <th>1</th>\n",
       "      <td>None</td>\n",
       "      <td>FFVIIRemake</td>\n",
       "      <td>Hi everyone! Time has flown by and we're now l...</td>\n",
       "      <td>t2_10rf92</td>\n",
       "      <td>False</td>\n",
       "      <td>None</td>\n",
       "      <td>0</td>\n",
       "      <td>False</td>\n",
       "      <td>/r/FFVII Remake is looking for new moderators!</td>\n",
       "      <td>[]</td>\n",
       "      <td>...</td>\n",
       "      <td>1.578571e+09</td>\n",
       "      <td>0</td>\n",
       "      <td>None</td>\n",
       "      <td>False</td>\n",
       "      <td>self</td>\n",
       "      <td>{'images': [{'source': {'url': 'https://extern...</td>\n",
       "      <td>NaN</td>\n",
       "      <td>NaN</td>\n",
       "      <td>NaN</td>\n",
       "      <td>NaN</td>\n",
       "    </tr>\n",
       "    <tr>\n",
       "      <th>2</th>\n",
       "      <td>None</td>\n",
       "      <td>FFVIIRemake</td>\n",
       "      <td></td>\n",
       "      <td>t2_4fp9w1op</td>\n",
       "      <td>False</td>\n",
       "      <td>None</td>\n",
       "      <td>0</td>\n",
       "      <td>False</td>\n",
       "      <td>My Cloud Strife cosplay, hope you all like it ...</td>\n",
       "      <td>[]</td>\n",
       "      <td>...</td>\n",
       "      <td>1.580378e+09</td>\n",
       "      <td>0</td>\n",
       "      <td>None</td>\n",
       "      <td>False</td>\n",
       "      <td>image</td>\n",
       "      <td>{'images': [{'source': {'url': 'https://previe...</td>\n",
       "      <td>NaN</td>\n",
       "      <td>NaN</td>\n",
       "      <td>NaN</td>\n",
       "      <td>NaN</td>\n",
       "    </tr>\n",
       "    <tr>\n",
       "      <th>3</th>\n",
       "      <td>None</td>\n",
       "      <td>FFVIIRemake</td>\n",
       "      <td></td>\n",
       "      <td>t2_14l12o</td>\n",
       "      <td>False</td>\n",
       "      <td>None</td>\n",
       "      <td>0</td>\n",
       "      <td>False</td>\n",
       "      <td>Cloud Frog circle of pray for SE release the D...</td>\n",
       "      <td>[]</td>\n",
       "      <td>...</td>\n",
       "      <td>1.580399e+09</td>\n",
       "      <td>0</td>\n",
       "      <td>None</td>\n",
       "      <td>False</td>\n",
       "      <td>image</td>\n",
       "      <td>{'images': [{'source': {'url': 'https://previe...</td>\n",
       "      <td>NaN</td>\n",
       "      <td>NaN</td>\n",
       "      <td>NaN</td>\n",
       "      <td>NaN</td>\n",
       "    </tr>\n",
       "    <tr>\n",
       "      <th>4</th>\n",
       "      <td>None</td>\n",
       "      <td>FFVIIRemake</td>\n",
       "      <td></td>\n",
       "      <td>t2_4fp9w1op</td>\n",
       "      <td>False</td>\n",
       "      <td>None</td>\n",
       "      <td>0</td>\n",
       "      <td>False</td>\n",
       "      <td>People wanted a video of my Cloud Strife Cospl...</td>\n",
       "      <td>[]</td>\n",
       "      <td>...</td>\n",
       "      <td>1.580390e+09</td>\n",
       "      <td>0</td>\n",
       "      <td>{'reddit_video': {'fallback_url': 'https://v.r...</td>\n",
       "      <td>True</td>\n",
       "      <td>hosted:video</td>\n",
       "      <td>{'images': [{'source': {'url': 'https://extern...</td>\n",
       "      <td>NaN</td>\n",
       "      <td>NaN</td>\n",
       "      <td>NaN</td>\n",
       "      <td>NaN</td>\n",
       "    </tr>\n",
       "  </tbody>\n",
       "</table>\n",
       "<p>5 rows × 107 columns</p>\n",
       "</div>"
      ],
      "text/plain": [
       "  approved_at_utc    subreddit  \\\n",
       "0            None  FFVIIRemake   \n",
       "1            None  FFVIIRemake   \n",
       "2            None  FFVIIRemake   \n",
       "3            None  FFVIIRemake   \n",
       "4            None  FFVIIRemake   \n",
       "\n",
       "                                            selftext author_fullname  saved  \\\n",
       "0  This, here, and only here, will be where talk ...        t2_yfvhs  False   \n",
       "1  Hi everyone! Time has flown by and we're now l...       t2_10rf92  False   \n",
       "2                                                        t2_4fp9w1op  False   \n",
       "3                                                          t2_14l12o  False   \n",
       "4                                                        t2_4fp9w1op  False   \n",
       "\n",
       "  mod_reason_title  gilded  clicked  \\\n",
       "0             None       0    False   \n",
       "1             None       0    False   \n",
       "2             None       0    False   \n",
       "3             None       0    False   \n",
       "4             None       0    False   \n",
       "\n",
       "                                               title link_flair_richtext  ...  \\\n",
       "0  Spoiler containment unit: Abandon all hope ye ...                  []  ...   \n",
       "1     /r/FFVII Remake is looking for new moderators!                  []  ...   \n",
       "2  My Cloud Strife cosplay, hope you all like it ...                  []  ...   \n",
       "3  Cloud Frog circle of pray for SE release the D...                  []  ...   \n",
       "4  People wanted a video of my Cloud Strife Cospl...                  []  ...   \n",
       "\n",
       "    created_utc  num_crossposts  \\\n",
       "0  1.577938e+09               0   \n",
       "1  1.578571e+09               0   \n",
       "2  1.580378e+09               0   \n",
       "3  1.580399e+09               0   \n",
       "4  1.580390e+09               0   \n",
       "\n",
       "                                               media is_video     post_hint  \\\n",
       "0                                               None    False           NaN   \n",
       "1                                               None    False          self   \n",
       "2                                               None    False         image   \n",
       "3                                               None    False         image   \n",
       "4  {'reddit_video': {'fallback_url': 'https://v.r...     True  hosted:video   \n",
       "\n",
       "                                             preview  media_metadata  \\\n",
       "0                                                NaN             NaN   \n",
       "1  {'images': [{'source': {'url': 'https://extern...             NaN   \n",
       "2  {'images': [{'source': {'url': 'https://previe...             NaN   \n",
       "3  {'images': [{'source': {'url': 'https://previe...             NaN   \n",
       "4  {'images': [{'source': {'url': 'https://extern...             NaN   \n",
       "\n",
       "  crosspost_parent_list  crosspost_parent author_cakeday  \n",
       "0                   NaN               NaN            NaN  \n",
       "1                   NaN               NaN            NaN  \n",
       "2                   NaN               NaN            NaN  \n",
       "3                   NaN               NaN            NaN  \n",
       "4                   NaN               NaN            NaN  \n",
       "\n",
       "[5 rows x 107 columns]"
      ]
     },
     "execution_count": 4,
     "metadata": {},
     "output_type": "execute_result"
    }
   ],
   "source": [
    "#Checking the gathered posts\n",
    "ffviir = pd.DataFrame(posts)\n",
    "print('Total number of Sub-Reddit Posts:', len(ffviir))\n",
    "ffviir.head()"
   ]
  },
  {
   "cell_type": "code",
   "execution_count": 5,
   "metadata": {},
   "outputs": [
    {
     "name": "stdout",
     "output_type": "stream",
     "text": [
      "Number of Unduplicated Sub-Reddict Posts: 992\n"
     ]
    }
   ],
   "source": [
    "#Droppoing duplicated posts\n",
    "ffviir.drop_duplicates(subset = 'url', inplace = True)\n",
    "ffviir.to_csv('./ffviir.csv')\n",
    "print('Number of Unduplicated Sub-Reddict Posts:', len(ffviir))"
   ]
  },
  {
   "cell_type": "code",
   "execution_count": 6,
   "metadata": {},
   "outputs": [
    {
     "data": {
      "text/html": [
       "<div>\n",
       "<style scoped>\n",
       "    .dataframe tbody tr th:only-of-type {\n",
       "        vertical-align: middle;\n",
       "    }\n",
       "\n",
       "    .dataframe tbody tr th {\n",
       "        vertical-align: top;\n",
       "    }\n",
       "\n",
       "    .dataframe thead th {\n",
       "        text-align: right;\n",
       "    }\n",
       "</style>\n",
       "<table border=\"1\" class=\"dataframe\">\n",
       "  <thead>\n",
       "    <tr style=\"text-align: right;\">\n",
       "      <th></th>\n",
       "      <th>title</th>\n",
       "      <th>label</th>\n",
       "    </tr>\n",
       "  </thead>\n",
       "  <tbody>\n",
       "    <tr>\n",
       "      <th>0</th>\n",
       "      <td>Spoiler containment unit: Abandon all hope ye ...</td>\n",
       "      <td>0</td>\n",
       "    </tr>\n",
       "    <tr>\n",
       "      <th>1</th>\n",
       "      <td>/r/FFVII Remake is looking for new moderators!...</td>\n",
       "      <td>0</td>\n",
       "    </tr>\n",
       "    <tr>\n",
       "      <th>2</th>\n",
       "      <td>My Cloud Strife cosplay, hope you all like it ...</td>\n",
       "      <td>0</td>\n",
       "    </tr>\n",
       "    <tr>\n",
       "      <th>3</th>\n",
       "      <td>Cloud Frog circle of pray for SE release the D...</td>\n",
       "      <td>0</td>\n",
       "    </tr>\n",
       "    <tr>\n",
       "      <th>4</th>\n",
       "      <td>People wanted a video of my Cloud Strife Cospl...</td>\n",
       "      <td>0</td>\n",
       "    </tr>\n",
       "  </tbody>\n",
       "</table>\n",
       "</div>"
      ],
      "text/plain": [
       "                                               title  label\n",
       "0  Spoiler containment unit: Abandon all hope ye ...      0\n",
       "1  /r/FFVII Remake is looking for new moderators!...      0\n",
       "2  My Cloud Strife cosplay, hope you all like it ...      0\n",
       "3  Cloud Frog circle of pray for SE release the D...      0\n",
       "4  People wanted a video of my Cloud Strife Cospl...      0"
      ]
     },
     "execution_count": 6,
     "metadata": {},
     "output_type": "execute_result"
    }
   ],
   "source": [
    "#Data Preparation for Processing\n",
    "ffviir['title'] = ffviir[['title','selftext']].astype(str).apply(''.join, 1) #Consolidating selftext features into title\n",
    "ffviir = ffviir[['title']] #Keeping title and dropping the rest\n",
    "ffviir['label'] = 0 #Labeling the data with FFVIIRemake = 0\n",
    "ffviir.head()"
   ]
  },
  {
   "cell_type": "code",
   "execution_count": 7,
   "metadata": {},
   "outputs": [
    {
     "name": "stdout",
     "output_type": "stream",
     "text": [
      "https://www.reddit.com/r/FFXV.json\n",
      "https://www.reddit.com/r/FFXV.json?after=t3_eviw2x\n",
      "https://www.reddit.com/r/FFXV.json?after=t3_eu2smn\n",
      "https://www.reddit.com/r/FFXV.json?after=t3_esdoou\n",
      "https://www.reddit.com/r/FFXV.json?after=t3_eqvkqb\n",
      "https://www.reddit.com/r/FFXV.json?after=t3_eq8ehb\n",
      "https://www.reddit.com/r/FFXV.json?after=t3_eoenwj\n",
      "https://www.reddit.com/r/FFXV.json?after=t3_en7hdc\n",
      "https://www.reddit.com/r/FFXV.json?after=t3_emeu2j\n",
      "https://www.reddit.com/r/FFXV.json?after=t3_ela2vk\n",
      "https://www.reddit.com/r/FFXV.json?after=t3_ek1t8y\n",
      "https://www.reddit.com/r/FFXV.json?after=t3_eimumr\n",
      "https://www.reddit.com/r/FFXV.json?after=t3_eh7gve\n",
      "https://www.reddit.com/r/FFXV.json?after=t3_eg791z\n",
      "https://www.reddit.com/r/FFXV.json?after=t3_eez2ou\n",
      "https://www.reddit.com/r/FFXV.json?after=t3_edd4bx\n",
      "https://www.reddit.com/r/FFXV.json?after=t3_ecbzxy\n",
      "https://www.reddit.com/r/FFXV.json?after=t3_e9stvs\n",
      "https://www.reddit.com/r/FFXV.json?after=t3_e8j9am\n",
      "https://www.reddit.com/r/FFXV.json?after=t3_e6payw\n",
      "https://www.reddit.com/r/FFXV.json?after=t3_e52eoy\n",
      "https://www.reddit.com/r/FFXV.json?after=t3_e37q2h\n",
      "https://www.reddit.com/r/FFXV.json?after=t3_e1qzkc\n",
      "https://www.reddit.com/r/FFXV.json?after=t3_e0f7i9\n",
      "https://www.reddit.com/r/FFXV.json?after=t3_dy8smg\n",
      "https://www.reddit.com/r/FFXV.json?after=t3_dwm1zf\n",
      "https://www.reddit.com/r/FFXV.json?after=t3_dvbc7b\n",
      "https://www.reddit.com/r/FFXV.json?after=t3_dtrczj\n",
      "https://www.reddit.com/r/FFXV.json?after=t3_ds7slm\n",
      "https://www.reddit.com/r/FFXV.json?after=t3_dq86ej\n",
      "https://www.reddit.com/r/FFXV.json?after=t3_dpj7s9\n",
      "https://www.reddit.com/r/FFXV.json?after=t3_dopzmo\n",
      "https://www.reddit.com/r/FFXV.json?after=t3_dnkbsg\n",
      "https://www.reddit.com/r/FFXV.json?after=t3_dlv9d3\n",
      "https://www.reddit.com/r/FFXV.json?after=t3_djt48q\n",
      "https://www.reddit.com/r/FFXV.json?after=t3_di4ez7\n",
      "https://www.reddit.com/r/FFXV.json?after=t3_dghz6d\n",
      "https://www.reddit.com/r/FFXV.json?after=t3_deiwf2\n",
      "https://www.reddit.com/r/FFXV.json?after=t3_dd2qmj\n",
      "https://www.reddit.com/r/FFXV.json?after=t3_db74mn\n",
      "https://www.reddit.com/r/FFXV.json\n",
      "https://www.reddit.com/r/FFXV.json?after=t3_eviw2x\n",
      "https://www.reddit.com/r/FFXV.json?after=t3_eu2smn\n",
      "https://www.reddit.com/r/FFXV.json?after=t3_esdoou\n",
      "https://www.reddit.com/r/FFXV.json?after=t3_eqvkqb\n"
     ]
    }
   ],
   "source": [
    "#Data Gathering for FFXV\n",
    "posts = []\n",
    "after = None\n",
    "\n",
    "for a in range(45):\n",
    "    if after == None:\n",
    "        current_url = url2\n",
    "    else:\n",
    "        current_url = url2 + '?after=' + after\n",
    "    print(current_url)\n",
    "    res = requests.get(current_url, headers={'User-agent': 'Pony Inc 1.0'})\n",
    "    \n",
    "    if res.status_code != 200:\n",
    "        print('Status error', res.status_code)\n",
    "        break\n",
    "    \n",
    "    current_dict = res.json()\n",
    "    current_posts = [p['data'] for p in current_dict['data']['children']]\n",
    "    posts.extend(current_posts)\n",
    "    after = current_dict['data']['after']\n",
    "    \n",
    "    if a > 0:\n",
    "        prev_posts = pd.read_csv('ffxv.csv')\n",
    "        current_df = pd.DataFrame()\n",
    "        \n",
    "    else:\n",
    "        pd.DataFrame(posts).to_csv('ffxv.csv', index = False)\n",
    "\n",
    "    # generate a random sleep duration to look more 'natural'\n",
    "    sleep_duration = random.randint(2,6)\n",
    "    # print(sleep_duration)\n",
    "    time.sleep(sleep_duration)"
   ]
  },
  {
   "cell_type": "code",
   "execution_count": 8,
   "metadata": {},
   "outputs": [
    {
     "name": "stdout",
     "output_type": "stream",
     "text": [
      "Total number of Sub-Reddit Posts: 1105\n"
     ]
    },
    {
     "data": {
      "text/html": [
       "<div>\n",
       "<style scoped>\n",
       "    .dataframe tbody tr th:only-of-type {\n",
       "        vertical-align: middle;\n",
       "    }\n",
       "\n",
       "    .dataframe tbody tr th {\n",
       "        vertical-align: top;\n",
       "    }\n",
       "\n",
       "    .dataframe thead th {\n",
       "        text-align: right;\n",
       "    }\n",
       "</style>\n",
       "<table border=\"1\" class=\"dataframe\">\n",
       "  <thead>\n",
       "    <tr style=\"text-align: right;\">\n",
       "      <th></th>\n",
       "      <th>approved_at_utc</th>\n",
       "      <th>subreddit</th>\n",
       "      <th>selftext</th>\n",
       "      <th>author_fullname</th>\n",
       "      <th>saved</th>\n",
       "      <th>mod_reason_title</th>\n",
       "      <th>gilded</th>\n",
       "      <th>clicked</th>\n",
       "      <th>title</th>\n",
       "      <th>link_flair_richtext</th>\n",
       "      <th>...</th>\n",
       "      <th>num_crossposts</th>\n",
       "      <th>media</th>\n",
       "      <th>is_video</th>\n",
       "      <th>crosspost_parent_list</th>\n",
       "      <th>crosspost_parent</th>\n",
       "      <th>media_metadata</th>\n",
       "      <th>author_cakeday</th>\n",
       "      <th>event_start</th>\n",
       "      <th>event_end</th>\n",
       "      <th>event_is_live</th>\n",
       "    </tr>\n",
       "  </thead>\n",
       "  <tbody>\n",
       "    <tr>\n",
       "      <th>0</th>\n",
       "      <td>None</td>\n",
       "      <td>FFXV</td>\n",
       "      <td>###Introductory Questions\\n---\\n\\n* **What is ...</td>\n",
       "      <td>t2_136kt1</td>\n",
       "      <td>False</td>\n",
       "      <td>None</td>\n",
       "      <td>0</td>\n",
       "      <td>False</td>\n",
       "      <td>Frequently Asked Questions</td>\n",
       "      <td>[{'e': 'text', 't': 'INFORMATION'}]</td>\n",
       "      <td>...</td>\n",
       "      <td>0</td>\n",
       "      <td>None</td>\n",
       "      <td>False</td>\n",
       "      <td>None</td>\n",
       "      <td>None</td>\n",
       "      <td>None</td>\n",
       "      <td>None</td>\n",
       "      <td>NaN</td>\n",
       "      <td>NaN</td>\n",
       "      <td>None</td>\n",
       "    </tr>\n",
       "    <tr>\n",
       "      <th>1</th>\n",
       "      <td>None</td>\n",
       "      <td>FFXV</td>\n",
       "      <td></td>\n",
       "      <td>t2_136kt1</td>\n",
       "      <td>False</td>\n",
       "      <td>None</td>\n",
       "      <td>0</td>\n",
       "      <td>False</td>\n",
       "      <td>/r/FFXV Mod Request Form</td>\n",
       "      <td>[{'e': 'text', 't': 'MODERATOR MESSAGE'}]</td>\n",
       "      <td>...</td>\n",
       "      <td>0</td>\n",
       "      <td>None</td>\n",
       "      <td>False</td>\n",
       "      <td>None</td>\n",
       "      <td>None</td>\n",
       "      <td>None</td>\n",
       "      <td>None</td>\n",
       "      <td>NaN</td>\n",
       "      <td>NaN</td>\n",
       "      <td>None</td>\n",
       "    </tr>\n",
       "    <tr>\n",
       "      <th>2</th>\n",
       "      <td>None</td>\n",
       "      <td>FFXV</td>\n",
       "      <td></td>\n",
       "      <td>t2_23z9wifo</td>\n",
       "      <td>False</td>\n",
       "      <td>None</td>\n",
       "      <td>0</td>\n",
       "      <td>False</td>\n",
       "      <td>Just received my handcrafted Ring of the Lucii...</td>\n",
       "      <td>[{'e': 'text', 't': 'FAN CONTENT'}]</td>\n",
       "      <td>...</td>\n",
       "      <td>1</td>\n",
       "      <td>None</td>\n",
       "      <td>False</td>\n",
       "      <td>None</td>\n",
       "      <td>None</td>\n",
       "      <td>None</td>\n",
       "      <td>None</td>\n",
       "      <td>NaN</td>\n",
       "      <td>NaN</td>\n",
       "      <td>None</td>\n",
       "    </tr>\n",
       "    <tr>\n",
       "      <th>3</th>\n",
       "      <td>None</td>\n",
       "      <td>FFXV</td>\n",
       "      <td>I know carbuncle you get so long as you comple...</td>\n",
       "      <td>t2_2zbg3w6e</td>\n",
       "      <td>False</td>\n",
       "      <td>None</td>\n",
       "      <td>0</td>\n",
       "      <td>False</td>\n",
       "      <td>Carbuncle and Magitec Exosuit questions</td>\n",
       "      <td>[{'e': 'text', 't': 'HELP'}]</td>\n",
       "      <td>...</td>\n",
       "      <td>0</td>\n",
       "      <td>None</td>\n",
       "      <td>False</td>\n",
       "      <td>None</td>\n",
       "      <td>None</td>\n",
       "      <td>None</td>\n",
       "      <td>None</td>\n",
       "      <td>NaN</td>\n",
       "      <td>NaN</td>\n",
       "      <td>None</td>\n",
       "    </tr>\n",
       "    <tr>\n",
       "      <th>4</th>\n",
       "      <td>None</td>\n",
       "      <td>FFXV</td>\n",
       "      <td>My specs\\nRTX 2070 Super\\nRyzen 7 2700x \\nG Sk...</td>\n",
       "      <td>t2_2w2hoch6</td>\n",
       "      <td>False</td>\n",
       "      <td>None</td>\n",
       "      <td>0</td>\n",
       "      <td>False</td>\n",
       "      <td>Not sure I will ever get this game to run at 6...</td>\n",
       "      <td>[{'e': 'text', 't': 'HELP'}]</td>\n",
       "      <td>...</td>\n",
       "      <td>0</td>\n",
       "      <td>None</td>\n",
       "      <td>False</td>\n",
       "      <td>None</td>\n",
       "      <td>None</td>\n",
       "      <td>None</td>\n",
       "      <td>None</td>\n",
       "      <td>NaN</td>\n",
       "      <td>NaN</td>\n",
       "      <td>None</td>\n",
       "    </tr>\n",
       "  </tbody>\n",
       "</table>\n",
       "<p>5 rows × 111 columns</p>\n",
       "</div>"
      ],
      "text/plain": [
       "  approved_at_utc subreddit  \\\n",
       "0            None      FFXV   \n",
       "1            None      FFXV   \n",
       "2            None      FFXV   \n",
       "3            None      FFXV   \n",
       "4            None      FFXV   \n",
       "\n",
       "                                            selftext author_fullname  saved  \\\n",
       "0  ###Introductory Questions\\n---\\n\\n* **What is ...       t2_136kt1  False   \n",
       "1                                                          t2_136kt1  False   \n",
       "2                                                        t2_23z9wifo  False   \n",
       "3  I know carbuncle you get so long as you comple...     t2_2zbg3w6e  False   \n",
       "4  My specs\\nRTX 2070 Super\\nRyzen 7 2700x \\nG Sk...     t2_2w2hoch6  False   \n",
       "\n",
       "  mod_reason_title  gilded  clicked  \\\n",
       "0             None       0    False   \n",
       "1             None       0    False   \n",
       "2             None       0    False   \n",
       "3             None       0    False   \n",
       "4             None       0    False   \n",
       "\n",
       "                                               title  \\\n",
       "0                         Frequently Asked Questions   \n",
       "1                           /r/FFXV Mod Request Form   \n",
       "2  Just received my handcrafted Ring of the Lucii...   \n",
       "3            Carbuncle and Magitec Exosuit questions   \n",
       "4  Not sure I will ever get this game to run at 6...   \n",
       "\n",
       "                         link_flair_richtext  ... num_crossposts  media  \\\n",
       "0        [{'e': 'text', 't': 'INFORMATION'}]  ...              0   None   \n",
       "1  [{'e': 'text', 't': 'MODERATOR MESSAGE'}]  ...              0   None   \n",
       "2        [{'e': 'text', 't': 'FAN CONTENT'}]  ...              1   None   \n",
       "3               [{'e': 'text', 't': 'HELP'}]  ...              0   None   \n",
       "4               [{'e': 'text', 't': 'HELP'}]  ...              0   None   \n",
       "\n",
       "   is_video crosspost_parent_list  crosspost_parent  media_metadata  \\\n",
       "0     False                  None              None            None   \n",
       "1     False                  None              None            None   \n",
       "2     False                  None              None            None   \n",
       "3     False                  None              None            None   \n",
       "4     False                  None              None            None   \n",
       "\n",
       "   author_cakeday event_start  event_end event_is_live  \n",
       "0            None         NaN        NaN          None  \n",
       "1            None         NaN        NaN          None  \n",
       "2            None         NaN        NaN          None  \n",
       "3            None         NaN        NaN          None  \n",
       "4            None         NaN        NaN          None  \n",
       "\n",
       "[5 rows x 111 columns]"
      ]
     },
     "execution_count": 8,
     "metadata": {},
     "output_type": "execute_result"
    }
   ],
   "source": [
    "#Checking the gathered posts\n",
    "ffxv = pd.DataFrame(posts)\n",
    "print('Total number of Sub-Reddit Posts:', len(ffxv))\n",
    "ffxv.head()"
   ]
  },
  {
   "cell_type": "code",
   "execution_count": 9,
   "metadata": {},
   "outputs": [
    {
     "name": "stdout",
     "output_type": "stream",
     "text": [
      "Number of Unduplicated Sub-Reddict Posts: 977\n"
     ]
    }
   ],
   "source": [
    "#Drop duplicated posts\n",
    "ffxv.drop_duplicates(subset = 'url', inplace = True)\n",
    "ffxv.to_csv('./ffxv.csv')\n",
    "print('Number of Unduplicated Sub-Reddict Posts:', len(ffxv))"
   ]
  },
  {
   "cell_type": "code",
   "execution_count": 10,
   "metadata": {},
   "outputs": [
    {
     "data": {
      "text/html": [
       "<div>\n",
       "<style scoped>\n",
       "    .dataframe tbody tr th:only-of-type {\n",
       "        vertical-align: middle;\n",
       "    }\n",
       "\n",
       "    .dataframe tbody tr th {\n",
       "        vertical-align: top;\n",
       "    }\n",
       "\n",
       "    .dataframe thead th {\n",
       "        text-align: right;\n",
       "    }\n",
       "</style>\n",
       "<table border=\"1\" class=\"dataframe\">\n",
       "  <thead>\n",
       "    <tr style=\"text-align: right;\">\n",
       "      <th></th>\n",
       "      <th>title</th>\n",
       "      <th>label</th>\n",
       "    </tr>\n",
       "  </thead>\n",
       "  <tbody>\n",
       "    <tr>\n",
       "      <th>0</th>\n",
       "      <td>Frequently Asked Questions###Introductory Ques...</td>\n",
       "      <td>1</td>\n",
       "    </tr>\n",
       "    <tr>\n",
       "      <th>1</th>\n",
       "      <td>/r/FFXV Mod Request Form</td>\n",
       "      <td>1</td>\n",
       "    </tr>\n",
       "    <tr>\n",
       "      <th>2</th>\n",
       "      <td>Just received my handcrafted Ring of the Lucii...</td>\n",
       "      <td>1</td>\n",
       "    </tr>\n",
       "    <tr>\n",
       "      <th>3</th>\n",
       "      <td>Carbuncle and Magitec Exosuit questionsI know ...</td>\n",
       "      <td>1</td>\n",
       "    </tr>\n",
       "    <tr>\n",
       "      <th>4</th>\n",
       "      <td>Not sure I will ever get this game to run at 6...</td>\n",
       "      <td>1</td>\n",
       "    </tr>\n",
       "  </tbody>\n",
       "</table>\n",
       "</div>"
      ],
      "text/plain": [
       "                                               title  label\n",
       "0  Frequently Asked Questions###Introductory Ques...      1\n",
       "1                           /r/FFXV Mod Request Form      1\n",
       "2  Just received my handcrafted Ring of the Lucii...      1\n",
       "3  Carbuncle and Magitec Exosuit questionsI know ...      1\n",
       "4  Not sure I will ever get this game to run at 6...      1"
      ]
     },
     "execution_count": 10,
     "metadata": {},
     "output_type": "execute_result"
    }
   ],
   "source": [
    "#Data Preparation for Processing\n",
    "ffxv['title'] = ffxv[['title', 'selftext']].astype(str).apply(''.join, 1)  #Consolidating selftext features into title\n",
    "ffxv = ffxv[['title']]  #Keeping title and dropping the rest\n",
    "ffxv['label'] = 1  #Labeling the data with FFXV = 1\n",
    "ffxv.head()"
   ]
  },
  {
   "cell_type": "code",
   "execution_count": 11,
   "metadata": {},
   "outputs": [],
   "source": [
    "#Combining the gathered data for train/test split\n",
    "df = ffviir.append(ffxv)\n",
    "df.to_csv('./df.csv') #Backup the compiled data\n",
    "#df=pd.read_csv('./df.csv')"
   ]
  },
  {
   "cell_type": "code",
   "execution_count": 12,
   "metadata": {
    "scrolled": true
   },
   "outputs": [
    {
     "name": "stdout",
     "output_type": "stream",
     "text": [
      "Shape the Gathered Data: (1969, 2)\n",
      "Number of null values in Gathered Data: title    0\n",
      "label    0\n",
      "dtype: int64\n"
     ]
    }
   ],
   "source": [
    "#Making sure all the data is ready\n",
    "print('Shape the Gathered Data:', df.shape)\n",
    "print('Number of null values in Gathered Data:', df.isnull().sum())"
   ]
  },
  {
   "cell_type": "markdown",
   "metadata": {},
   "source": [
    "## Visualization of Data Gathered\n",
    "---\n",
    "The following plot shows the post counts for both Sub-Reddit as well as total post counts."
   ]
  },
  {
   "cell_type": "code",
   "execution_count": 13,
   "metadata": {},
   "outputs": [
    {
     "data": {
      "text/plain": [
       "([<matplotlib.axis.XTick at 0x1ed53fd1f08>],\n",
       " <a list of 1 Text xticklabel objects>)"
      ]
     },
     "execution_count": 13,
     "metadata": {},
     "output_type": "execute_result"
    },
    {
     "data": {
      "image/png": "[encoded data removed]",
      "text/plain": [
       "<Figure size 720x504 with 1 Axes>"
      ]
     },
     "metadata": {
      "needs_background": "light"
     },
     "output_type": "display_data"
    }
   ],
   "source": [
    "counts = [[ffviir.shape[0], ffxv.shape[0], df.shape[0]]]\n",
    "reddit = pd.DataFrame(counts,columns=['FFVII Remake', 'FFXV', 'Total'])\n",
    "\n",
    "ax = reddit.plot(kind='bar', figsize=(10,7));\n",
    "ax.set_title('Summary of Reddit Post Counts', fontsize=21, y=1.01);\n",
    "ax.set_xlabel('Sub-Reddit', fontsize=16);\n",
    "ax.set_ylabel('Post Counts', fontsize=16);\n",
    "plt.xticks(ticks = [0], labels=[''])"
   ]
  },
  {
   "cell_type": "markdown",
   "metadata": {},
   "source": [
    "## Model Prep: Train/test split\n",
    "---\n",
    "\n",
    "We will holdout a set of data using the `train_test_split` function to split our `title` and `label` variables into a training set and a holdout set."
   ]
  },
  {
   "cell_type": "code",
   "execution_count": 14,
   "metadata": {},
   "outputs": [],
   "source": [
    "# Create train_test_split.\n",
    "X_train, X_test, y_train, y_test = train_test_split(df[['title']],\n",
    "                                                    df['label'],\n",
    "                                                    stratify = df['label'],\n",
    "                                                    random_state = 42)"
   ]
  },
  {
   "cell_type": "markdown",
   "metadata": {},
   "source": [
    "## Model Prep: Text Data Cleaning\n",
    "---\n",
    "\n",
    "The following section cleans the text data for model processing."
   ]
  },
  {
   "cell_type": "code",
   "execution_count": 15,
   "metadata": {},
   "outputs": [],
   "source": [
    "#Function to clean the data\n",
    "def title_to_words(raw_title):\n",
    "    title_text = BeautifulSoup(raw_title).get_text()\n",
    "    letters_only = re.sub(\"[^a-zA-Z]\", \" \", title_text) #extract letters only\n",
    "    words = letters_only.lower().split() #lower case\n",
    "    stops = set(stopwords.words('english')) #stop words\n",
    "    stops.update({'ffvii', 'ffviir','ffxv'})\n",
    "    meaningful_words = [w for w in words if w not in stops]\n",
    "    p_stemmer = PorterStemmer() #stemming the words\n",
    "    meaningful_words = [p_stemmer.stem(i) for i in meaningful_words]  \n",
    "    return(\" \".join(meaningful_words))"
   ]
  },
  {
   "cell_type": "code",
   "execution_count": 16,
   "metadata": {},
   "outputs": [
    {
     "name": "stdout",
     "output_type": "stream",
     "text": [
      "Cleaning and parsing the Sub-Reddict Titles...\n",
      "Title 500 of 1969.\n",
      "Title 1000 of 1969.\n",
      "Tile 1500 of 1969.\n",
      "1969 of 1969 Sub-Reddict Titles cleaned!\n"
     ]
    }
   ],
   "source": [
    "#Text Data Cleaning\n",
    "total_titles = df.shape[0]\n",
    "clean_train_titles = []\n",
    "clean_test_titles = []\n",
    "j = 0\n",
    "print(\"Cleaning and parsing the Sub-Reddict Titles...\")\n",
    "for train_title in X_train['title']:\n",
    "    # Convert titles to words, then append to clean_train_titles.\n",
    "    clean_train_titles.append(title_to_words(train_title))\n",
    "    \n",
    "    # If the index is divisible by 500, print a message\n",
    "    if (j + 1) % 500 == 0:\n",
    "        print(f'Title {j + 1} of {total_titles}.')\n",
    "    \n",
    "    j += 1\n",
    "\n",
    "# Let's do the same for our testing set.\n",
    "for test_title in X_test['title']:\n",
    "    # Convert title to words, then append to clean_train_titles.\n",
    "    clean_test_titles.append(title_to_words(test_title))\n",
    "    \n",
    "    # If the index is divisible by 500, print a message\n",
    "    if (j + 1) % 500 == 0:\n",
    "        print(f'Tile {j + 1} of {total_titles}.')\n",
    "        \n",
    "    j += 1\n",
    "\n",
    "print(f'{total_titles} of {total_titles} Sub-Reddict Titles cleaned!')\n",
    "pd.DataFrame(clean_train_titles).to_csv('./clean_train_titles.csv')\n",
    "pd.DataFrame(clean_test_titles).to_csv('./clean_test_titles.csv')"
   ]
  },
  {
   "cell_type": "markdown",
   "metadata": {},
   "source": [
    "## Model Prep: Data Optimization\n",
    "---\n",
    "\n",
    "The following section optimizes the data for Naive Bayes model."
   ]
  },
  {
   "cell_type": "code",
   "execution_count": 17,
   "metadata": {},
   "outputs": [
    {
     "data": {
      "text/plain": [
       "{'cvec__max_df': 0.9, 'cvec__max_features': 3000, 'cvec__min_df': 2}"
      ]
     },
     "execution_count": 17,
     "metadata": {},
     "output_type": "execute_result"
    }
   ],
   "source": [
    "#Searching for the most optimized Countvectorizer parameters\n",
    "pipe = Pipeline([\n",
    "    ('cvec', CountVectorizer()),\n",
    "    ('nb', MultinomialNB())\n",
    "])\n",
    "\n",
    "pipe_params = {\n",
    "    'cvec__max_features': [2500, 3000, 3500, 5000],\n",
    "    'cvec__min_df': [2, 3],\n",
    "    'cvec__max_df': [.9, .95]\n",
    "}\n",
    "gs = GridSearchCV(pipe, param_grid = pipe_params, cv=3)\n",
    "gs.fit(clean_train_titles, y_train)\n",
    "gs.best_params_"
   ]
  },
  {
   "cell_type": "code",
   "execution_count": 38,
   "metadata": {
    "scrolled": true
   },
   "outputs": [
    {
     "name": "stdout",
     "output_type": "stream",
     "text": [
      "['aa', 'aaa', 'ab', 'abandon', 'abil', 'abl', 'absenc', 'absolut', 'absorb', 'ac', 'accent', 'accept', 'access', 'accessori', 'accident', 'accompani', 'accomplish', 'accord', 'accordo', 'account', 'accumul', 'ace', 'achiev', 'acquir', 'across', 'act', 'action', 'activ', 'actor', 'actual', 'ad', 'adamantois', 'add', 'addict', 'addit', 'address', 'adf', 'adjust', 'admir', 'admit', 'ador', 'adult', 'advanc', 'advantag', 'advent', 'adventur', 'advertis', 'advic', 'aera', 'aeri', 'aerith', 'aesthet', 'af', 'afaik', 'affect', 'afford', 'afraid', 'aftermath', 'afterward', 'age', 'aggress', 'agit', 'ago', 'agre', 'agreement', 'ahead', 'ai', 'aim', 'aimlessli', 'air', 'airship', 'aka', 'ala', 'album', 'alias', 'alik', 'aliv', 'alley', 'alli', 'allow', 'almost', 'alon', 'along', 'alongsid', 'alot', 'alreadi', 'also', 'alter', 'altern', 'alterna', 'although', 'altissa', 'altissia', 'alway', 'amaz', 'amazon', 'ambigu', 'america', 'american', 'among', 'amount', 'amus', 'analysi', 'ancient', 'android', 'angel', 'angelu', 'anger', 'angl', 'angler', 'anim', 'anklet', 'anniversari', 'announc', 'annoy', 'anoth', 'ansel', 'answer', 'anticip', 'anxieti', 'anxiou', 'anybodi', 'anyhow', 'anymor', 'anyon', 'anyth', 'anyway', 'anywher', 'aoe', 'aoru', 'ap', 'apart', 'api', 'apocalyps', 'apocalypsi', 'apolog', 'app', 'appar', 'appear', 'appli', 'applic', 'appreci', 'approach', 'april', 'aranea', 'arc', 'archiv', 'ardyn', 'area', 'arena', 'arent', 'argu', 'argument', 'arm', 'armi', 'armig', 'armor', 'armour', 'around', 'arriv', 'arsen', 'art', 'articl', 'artwork', 'ascend', 'ascens', 'asian', 'asid', 'ask', 'aspect', 'ass', 'assassin', 'assess', 'asset', 'asshol', 'assist', 'assum', 'assumpt', 'astral', 'atb', 'atleast', 'atmospher', 'attach', 'attack', 'attain', 'attempt', 'attent', 'attir', 'attitud', 'attract', 'au', 'audienc', 'audio', 'aurum', 'australia', 'australian', 'author', 'auto', 'automat', 'avail', 'avalanch', 'avatar', 'avatara', 'aveng', 'averag', 'avoid', 'aw', 'await', 'awaken', 'awar', 'award', 'away', 'awesom', 'awkward', 'ba', 'babi', 'back', 'background', 'backstori', 'backward', 'bad', 'badass', 'badli', 'bae', 'bahamut', 'balanc', 'ball', 'balouv', 'band', 'bank', 'banter', 'bar', 'bare', 'barn', 'barret', 'barrett', 'barrier', 'base', 'bash', 'basic', 'bass', 'battl', 'battlefield', 'bb', 'bc', 'bd', 'beach', 'bead', 'beam', 'beanmin', 'bear', 'beast', 'beat', 'beaten', 'beauti', 'becam', 'becom', 'begin', 'beginn', 'behemoth', 'behind', 'believ', 'belong', 'belov', 'belt', 'benchmark', 'benefit', 'bentley', 'besid', 'best', 'bet', 'betray', 'better', 'bewar', 'beyond', 'bf', 'bff', 'bi', 'bicker', 'big', 'bigg', 'bigger', 'biggest', 'bike', 'bill', 'bing', 'bird', 'birthday', 'bit', 'black', 'blade', 'blah', 'blame', 'blast', 'blaze', 'bless', 'blind', 'blindsid', 'block', 'blog', 'blood', 'blow', 'blown', 'blue', 'board', 'boat', 'bodi', 'boi', 'bolt', 'bomb', 'bond', 'bone', 'bonu', 'bonus', 'book', 'boost', 'booster', 'boot', 'borderless', 'bore', 'born', 'boss', 'bother', 'bottom', 'bought', 'bout', 'box', 'boy', 'boyband', 'brace', 'brain', 'brand', 'brave', 'break', 'breakdown', 'breath', 'breed', 'briana', 'brief', 'briefli', 'bright', 'bring', 'bro', 'broke', 'broken', 'brother', 'brotherhood', 'brought', 'bruh', 'btw', 'buck', 'buddi', 'budget', 'buff', 'bug', 'buggi', 'build', 'built', 'bullet', 'bump', 'bunch', 'bundl', 'burden', 'burst', 'busi', 'bust', 'buster', 'butteri', 'button', 'buy', 'ca', 'cactaur', 'cactuar', 'caelum', 'caem', 'caestino', 'cafe', 'cait', 'cake', 'call', 'calm', 'came', 'camera', 'camp', 'campaign', 'campfir', 'canada', 'cancel', 'cannot', 'canon', 'cant', 'canyon', 'cap', 'capac', 'cape', 'capit', 'caption', 'captur', 'car', 'carbuncl', 'card', 'care', 'carniv', 'carri', 'cartanica', 'case', 'cash', 'cast', 'casual', 'cat', 'catch', 'cater', 'caught', 'caus', 'cave', 'cb', 'cc', 'cd', 'cdn', 'ce', 'cec', 'cee', 'celebr', 'cell', 'cerberu', 'certain', 'certainli', 'certif', 'cf', 'cg', 'cgi', 'ch', 'challeng', 'chanc', 'chang', 'channel', 'chaotic', 'chapter', 'charact', 'charg', 'charm', 'chase', 'chastis', 'cheapest', 'cheat', 'check', 'cheer', 'chemistri', 'cherri', 'chick', 'childhood', 'children', 'chill', 'chip', 'choco', 'chocobo', 'chocobro', 'choic', 'choos', 'chop', 'chose', 'christma', 'chug', 'chunk', 'church', 'ci', 'cid', 'cindi', 'circl', 'circumst', 'citi', 'citizen', 'civil', 'claim', 'clarif', 'claru', 'class', 'classic', 'clean', 'clear', 'clearli', 'click', 'cliff', 'clip', 'clock', 'clone', 'close', 'closer', 'cloth', 'cloud', 'clueless', 'clunki', 'cm', 'co', 'code', 'coher', 'coin', 'coincident', 'cold', 'collab', 'collabor', 'collaps', 'collect', 'collector', 'color', 'colour', 'com', 'combat', 'combin', 'combo', 'come', 'comfort', 'command', 'comment', 'commentari', 'commerci', 'commodor', 'common', 'commun', 'compani', 'compar', 'comparison', 'compat', 'compet', 'compil', 'complain', 'complaint', 'complet', 'completionist', 'complex', 'complic', 'compos', 'comput', 'comrad', 'con', 'concept', 'concern', 'conclud', 'conclus', 'condit', 'confer', 'configur', 'confirm', 'conflict', 'confront', 'confus', 'connect', 'consid', 'consist', 'consol', 'constant', 'constantli', 'constraint', 'construct', 'consum', 'contact', 'contain', 'contempl', 'content', 'context', 'contin', 'continu', 'contradict', 'contrast', 'control', 'conundrum', 'convers', 'convey', 'convinc', 'convolut', 'cook', 'cool', 'cooler', 'cooper', 'copi', 'cor', 'core', 'corneo', 'corner', 'corpor', 'correct', 'correctli', 'corridor', 'corrupt', 'corsair', 'cosmo', 'cosplay', 'cost', 'costlemark', 'costum', 'could', 'count', 'countdown', 'counter', 'counterpart', 'countless', 'countri', 'coupl', 'courag', 'cours', 'cover', 'cp', 'cpu', 'crack', 'craft', 'crap', 'crash', 'crater', 'crazi', 'creat', 'creation', 'creativ', 'creator', 'creatur', 'credit', 'creed', 'creep', 'creepi', 'crestholm', 'crew', 'cri', 'crisi', 'critic', 'cross', 'crossblad', 'crossdress', 'crossov', 'crow', 'crowd', 'crown', 'cruel', 'crystal', 'cultur', 'cup', 'cure', 'curios', 'curiou', 'current', 'custom', 'cut', 'cute', 'cutscen', 'cuz', 'cv', 'cx', 'cyber', 'cyberpunk', 'cycl', 'da', 'dad', 'daemon', 'dagger', 'daili', 'damag', 'damn', 'dampen', 'danger', 'dare', 'dark', 'darker', 'dart', 'dash', 'data', 'datalog', 'datamin', 'date', 'daughter', 'dave', 'dawn', 'day', 'db', 'dc', 'dd', 'ddr', 'ddu', 'de', 'dead', 'deadlin', 'deal', 'death', 'debat', 'debit', 'dec', 'decad', 'decemb', 'decent', 'decid', 'decis', 'dedic', 'deep', 'deeper', 'deepli', 'def', 'default', 'defeat', 'defend', 'defens', 'definit', 'delay', 'delet', 'delight', 'deliv', 'deliveri', 'delux', 'delv', 'demand', 'demo', 'demon', 'deni', 'depend', 'deplet', 'depress', 'depth', 'describ', 'descript', 'desert', 'deserv', 'design', 'desir', 'desktop', 'desper', 'despit', 'destini', 'destroy', 'detail', 'determin', 'dev', 'develop', 'deviantart', 'deviat', 'devil', 'df', 'di', 'dialog', 'dialogu', 'diamond', 'didnt', 'die', 'differ', 'difficult', 'difficulti', 'dig', 'digit', 'dilemma', 'dimens', 'diner', 'dino', 'direct', 'directli', 'director', 'dirg', 'disabl', 'disagre', 'disappear', 'disappoint', 'disapprov', 'disc', 'discord', 'discount', 'discov', 'discuss', 'disk', 'disney', 'display', 'dissidia', 'distanc', 'distant', 'distinctli', 'distinguish', 'distract', 'dive', 'divid', 'divin', 'divis', 'dlc', 'dlss', 'dmc', 'doabl', 'doc', 'dodg', 'doesnt', 'dog', 'dollar', 'done', 'dont', 'dood', 'door', 'dope', 'dotf', 'doubl', 'doubt', 'down', 'downgrad', 'downhil', 'download', 'downvot', 'dp', 'dpr', 'dr', 'drain', 'drama', 'dramat', 'draw', 'drawn', 'dread', 'dream', 'dress', 'drew', 'drillbreak', 'drink', 'drive', 'driven', 'driver', 'drop', 'ds', 'dualshock', 'dub', 'dude', 'due', 'duel', 'duh', 'duke', 'dumb', 'dumbass', 'dump', 'dungeon', 'dunno', 'dusca', 'dust', 'duti', 'dx', 'dynam', 'dyne', 'ea', 'ead', 'eager', 'earli', 'earlier', 'earliest', 'earn', 'earth', 'easi', 'easier', 'easili', 'east', 'easter', 'eat', 'eb', 'ec', 'ect', 'ed', 'edg', 'edit', 'ee', 'eec', 'ef', 'effect', 'effici', 'effort', 'egg', 'egx', 'eishima', 'either', 'elabor', 'eleg', 'element', 'elev', 'elixir', 'elmyra', 'els', 'elsewher', 'email', 'emerald', 'emerg', 'emo', 'emot', 'emperor', 'emphasi', 'empir', 'employe', 'empti', 'en', 'enabl', 'encount', 'encourag', 'end', 'endgam', 'endless', 'endur', 'enemi', 'engag', 'engin', 'english', 'enhanc', 'enix', 'enjoy', 'enough', 'enter', 'entertain', 'entir', 'entri', 'environ', 'eo', 'ep', 'epic', 'episod', 'equal', 'equip', 'era', 'error', 'escal', 'escap', 'especi', 'essenti', 'etc', 'even', 'event', 'eventu', 'ever', 'everi', 'everyon', 'everyth', 'everytim', 'everywher', 'evid', 'evil', 'evo', 'ex', 'exact', 'exactli', 'exampl', 'excel', 'except', 'excit', 'exclus', 'excus', 'exineri', 'exist', 'exosuit', 'exp', 'expand', 'expans', 'expect', 'expens', 'experi', 'experienc', 'expiri', 'explain', 'explan', 'explor', 'explos', 'express', 'extend', 'extra', 'extrem', 'eye', 'fa', 'face', 'facebook', 'fact', 'fade', 'fail', 'fair', 'fairli', 'faith', 'fake', 'fall', 'famili', 'famitsu', 'fan', 'fanart', 'fantasi', 'fantast', 'faq', 'far', 'farm', 'fashion', 'fast', 'faster', 'fat', 'fate', 'father', 'fault', 'favor', 'favorit', 'favourit', 'fb', 'fe', 'fear', 'feasibl', 'feast', 'feather', 'featur', 'feb', 'februari', 'feel', 'fell', 'fellow', 'felt', 'femal', 'fend', 'festa', 'festiv', 'fetch', 'ff', 'ffviiremak', 'ffx', 'ffxii', 'ffxiii', 'ffxiv', 'ffxvi', 'fiction', 'field', 'fierc', 'fight', 'figur', 'figurin', 'file', 'fill', 'film', 'filter', 'final', 'finalfantasi', 'finalfantasyvii', 'find', 'fine', 'finess', 'finger', 'finish', 'firaga', 'fire', 'firmwar', 'first', 'fish', 'fist', 'fit', 'five', 'fix', 'flair', 'flame', 'flash', 'flashback', 'flaw', 'flesh', 'fli', 'flip', 'float', 'floor', 'flow', 'flower', 'focal', 'fociaugh', 'focu', 'focus', 'foe', 'folder', 'folk', 'follow', 'food', 'fool', 'foot', 'footag', 'forc', 'forese', 'foreshadow', 'forest', 'forev', 'forget', 'forgiv', 'forgot', 'forgotten', 'form', 'format', 'formouth', 'forth', 'fortun', 'forum', 'forward', 'fought', 'found', 'founder', 'four', 'fourth', 'fp', 'fr', 'frame', 'framer', 'franchis', 'freak', 'free', 'freez', 'french', 'frequent', 'fresh', 'friday', 'friend', 'friendli', 'friendship', 'frog', 'front', 'frustrat', 'fuck', 'fuel', 'fujiwara', 'fulfil', 'full', 'fulli', 'fullscreen', 'fun', 'function', 'fund', 'funki', 'funni', 'furi', 'furthermor', 'futur', 'futurist', 'fyi', 'ga', 'gain', 'galdin', 'game', 'gamefaq', 'gamei', 'gameplay', 'gamer', 'gamespot', 'gamestop', 'gang', 'gap', 'garrison', 'garuda', 'gate', 'gather', 'gaug', 'gave', 'gaze', 'gb', 'gear', 'geforc', 'gem', 'gematsu', 'gen', 'gener', 'genesi', 'genr', 'gentiana', 'genuin', 'german', 'get', 'gg', 'ghost', 'ghz', 'giant', 'gift', 'gil', 'gilgamesh', 'girl', 'girlfriend', 'give', 'given', 'glad', 'gladio', 'gladiolu', 'glaiv', 'glanc', 'glimps', 'glitch', 'glori', 'gloriou', 'glow', 'go', 'goal', 'god', 'goddess', 'goe', 'gold', 'golden', 'gona', 'gone', 'gonna', 'good', 'goofi', 'googl', 'gorgeou', 'got', 'gotta', 'gotten', 'gourmand', 'gpu', 'grab', 'gralea', 'graphic', 'graveyard', 'great', 'greatest', 'greatli', 'green', 'grew', 'grind', 'ground', 'group', 'grow', 'grunt', 'gtx', 'gu', 'guarante', 'guard', 'guess', 'guest', 'guid', 'gun', 'guy', 'haha', 'hair', 'half', 'halfway', 'hammerhead', 'hand', 'handgun', 'handl', 'hang', 'happen', 'happend', 'happi', 'hard', 'hardcov', 'harder', 'hardest', 'hardwar', 'hasnt', 'hate', 'havent', 'hd', 'hdr', 'head', 'headach', 'headquart', 'heal', 'health', 'hear', 'heard', 'heart', 'heaven', 'heavi', 'heavili', 'heck', 'held', 'hell', 'hello', 'help', 'henc', 'hero', 'hey', 'hi', 'hidden', 'hide', 'high', 'higher', 'highest', 'highli', 'highlight', 'highway', 'hilari', 'hint', 'histori', 'hit', 'hmm', 'hojo', 'hold', 'holi', 'holiday', 'home', 'honest', 'honestli', 'hood', 'hook', 'hop', 'hope', 'horribl', 'horror', 'host', 'hot', 'hour', 'hous', 'howev', 'hp', 'hq', 'hr', 'html', 'http', 'huge', 'huh', 'human', 'hundr', 'hung', 'hunt', 'hunter', 'hurt', 'hype', 'ice', 'icon', 'id', 'idea', 'ideal', 'ident', 'idk', 'ifrit', 'iggi', 'igni', 'ignor', 'ii', 'iii', 'ill', 'im', 'imag', 'imagin', 'imgur', 'immedi', 'immens', 'immers', 'imo', 'impact', 'imperi', 'implement', 'import', 'imposs', 'impress', 'improv', 'includ', 'incomplet', 'incorpor', 'increas', 'incred', 'inde', 'independ', 'indic', 'individu', 'industri', 'inevit', 'infiltr', 'infinit', 'influenc', 'info', 'inform', 'ingredi', 'initi', 'injur', 'injuri', 'inn', 'input', 'insert', 'insid', 'insight', 'insomnia', 'inspir', 'instagram', 'instal', 'instanc', 'instant', 'instantli', 'instead', 'intel', 'intend', 'intens', 'intent', 'interact', 'interest', 'internet', 'interpret', 'interrupt', 'interview', 'intro', 'introduc', 'introduct', 'inventori', 'invest', 'invinc', 'involv', 'iri', 'ish', 'island', 'isnt', 'issu', 'item', 'ive', 'izunia', 'jabberwock', 'jan', 'januari', 'japan', 'japanes', 'jenova', 'jessi', 'ji', 'jm', 'job', 'john', 'join', 'joke', 'journey', 'jp', 'jpg', 'jrpg', 'judg', 'jump', 'jun', 'june', 'junon', 'kalm', 'katana', 'keep', 'kenni', 'kept', 'key', 'keyboard', 'kh', 'kick', 'kid', 'kill', 'killer', 'kind', 'kinda', 'king', 'kingdom', 'kingsglaiv', 'kink', 'kiss', 'kitas', 'knee', 'knew', 'knight', 'knock', 'know', 'knowledg', 'known', 'kojima', 'kotr', 'ktz', 'kupocon', 'laboratori', 'lack', 'lad', 'ladi', 'lag', 'lake', 'lanc', 'land', 'landscap', 'languag', 'laptop', 'larg', 'larger', 'last', 'lastli', 'late', 'later', 'latest', 'latin', 'laugh', 'launch', 'lay', 'lazi', 'lb', 'lead', 'leader', 'leak', 'lean', 'learn', 'least', 'leav', 'led', 'left', 'leg', 'legaci', 'legal', 'legend', 'legit', 'legitim', 'lego', 'length', 'less', 'lesser', 'lestallum', 'let', 'letter', 'level', 'leviathan', 'levil', 'librari', 'licens', 'lick', 'lie', 'lieg', 'life', 'lifespan', 'lifestream', 'lift', 'light', 'lightn', 'like', 'limit', 'line', 'linear', 'link', 'lip', 'list', 'listen', 'lite', 'liter', 'littl', 'live', 'lmao', 'load', 'local', 'locat', 'lock', 'lockhart', 'log', 'logic', 'logo', 'lol', 'london', 'long', 'longer', 'longest', 'longwyth', 'look', 'loos', 'lore', 'lose', 'loss', 'lost', 'lot', 'loud', 'love', 'low', 'lower', 'lowest', 'lpx', 'luci', 'lucii', 'luck', 'lucki', 'luna', 'lunafreya', 'lurk', 'lv', 'lvl', 'machin', 'mad', 'made', 'magic', 'magitec', 'magitek', 'magna', 'mail', 'main', 'mainli', 'major', 'make', 'mako', 'malici', 'malmalam', 'man', 'mana', 'manag', 'mani', 'mansion', 'manual', 'map', 'march', 'mark', 'marker', 'market', 'marlen', 'mart', 'masamun', 'mask', 'massiv', 'master', 'masterpiec', 'match', 'materi', 'materia', 'matter', 'max', 'maximum', 'maxresdefault', 'may', 'mayb', 'maze', 'mean', 'meaning', 'meant', 'meanwhil', 'meat', 'mechan', 'media', 'mediat', 'mediev', 'mediocr', 'medium', 'meet', 'mega', 'megaphon', 'mele', 'melodi', 'member', 'meme', 'memori', 'men', 'menac', 'mental', 'mention', 'menu', 'mere', 'merri', 'mess', 'messag', 'messeng', 'met', 'metal', 'meteor', 'method', 'microsoft', 'mid', 'middl', 'mideel', 'midgar', 'midnight', 'might', 'mild', 'mile', 'milk', 'million', 'min', 'mind', 'mine', 'mini', 'minigam', 'minim', 'minor', 'minu', 'minut', 'miss', 'mission', 'mist', 'mistak', 'mistaken', 'mix', 'mo', 'mob', 'mobil', 'mobo', 'mod', 'mode', 'model', 'moder', 'modern', 'modeso', 'modifi', 'mog', 'mom', 'moment', 'monday', 'money', 'monitor', 'monologu', 'monster', 'monstros', 'month', 'moogl', 'moon', 'moral', 'morn', 'mostli', 'motel', 'mother', 'motion', 'motor', 'motorbik', 'motorcycl', 'mountain', 'mous', 'mouth', 'move', 'movement', 'moveset', 'movi', 'mp', 'mt', 'much', 'muddl', 'multi', 'multipl', 'multiplay', 'multipli', 'music', 'must', 'mysteri', 'mythril', 'na', 'naga', 'naglfar', 'nail', 'name', 'nanaki', 'narr', 'nativ', 'natur', 'navig', 'nd', 'near', 'nearbi', 'nearli', 'neat', 'necessari', 'necessarili', 'neck', 'need', 'needl', 'needless', 'neg', 'neo', 'neon', 'net', 'never', 'new', 'newcom', 'newer', 'newest', 'newli', 'news', 'next', 'ng', 'nibel', 'nibelheim', 'nice', 'niflheim', 'night', 'nightmar', 'nixperi', 'nobodi', 'noct', 'nocti', 'nod', 'nomura', 'non', 'none', 'nonsens', 'noob', 'noodl', 'noon', 'normal', 'north', 'nostalg', 'nostalgia', 'notch', 'note', 'noth', 'notic', 'nov', 'novel', 'novemb', 'nowher', 'npc', 'nt', 'number', 'nut', 'nutshel', 'nvidia', 'nvme', 'nyx', 'object', 'obo', 'obscur', 'observatori', 'obsess', 'obstacl', 'obtain', 'obviou', 'obvious', 'oc', 'occasion', 'occur', 'ocean', 'octob', 'odd', 'off', 'offens', 'offer', 'offici', 'offlin', 'often', 'og', 'ogklyudbl', 'oh', 'oip', 'ok', 'okay', 'old', 'older', 'omega', 'omen', 'omg', 'one', 'onlin', 'onto', 'onward', 'oob', 'op', 'open', 'oper', 'opinion', 'oppon', 'opportun', 'oppos', 'opposit', 'opt', 'optim', 'option', 'oracl', 'orchestra', 'order', 'orderi', 'org', 'organ', 'orient', 'origin', 'orign', 'ost', 'other', 'otherwis', 'outcom', 'outdat', 'outfit', 'outpost', 'outright', 'outsid', 'overal', 'overwhelm', 'overworld', 'overzeal', 'own', 'owner', 'oy', 'pace', 'pack', 'packi', 'page', 'pagefil', 'paid', 'pain', 'paint', 'pan', 'panick', 'parachut', 'parallel', 'paranoid', 'pari', 'park', 'parri', 'part', 'parti', 'particip', 'particular', 'particularli', 'partner', 'pass', 'passeng', 'passion', 'past', 'patch', 'path', 'patienc', 'patient', 'paus', 'pay', 'payment', 'pc', 'peac', 'peak', 'pen', 'penalti', 'pend', 'peopl', 'perfect', 'perfectli', 'perform', 'perhap', 'period', 'perman', 'perpetouss', 'persist', 'person', 'perspect', 'petit', 'petti', 'phantom', 'phase', 'phoenix', 'phone', 'photo', 'photograph', 'photographi', 'physic', 'piano', 'pic', 'pick', 'pictur', 'pid', 'piec', 'pin', 'pitfal', 'pitioss', 'pizza', 'pjpg', 'pl', 'place', 'plain', 'plan', 'planet', 'plant', 'plate', 'platform', 'platinum', 'play', 'playabl', 'player', 'playstat', 'playstyl', 'playthrough', 'pleas', 'pleasur', 'plenti', 'plot', 'plu', 'pm', 'png', 'pocket', 'podcast', 'point', 'poison', 'polici', 'polish', 'poll', 'ponder', 'poor', 'poorli', 'pop', 'popul', 'popular', 'port', 'portion', 'portrait', 'pose', 'posit', 'possibl', 'post', 'postal', 'poster', 'postpon', 'potenti', 'potion', 'pour', 'power', 'practic', 'prais', 'pray', 'pre', 'predict', 'prefac', 'prefer', 'preoder', 'preorder', 'prepar', 'prequel', 'presenc', 'present', 'preset', 'presid', 'press', 'pressur', 'presum', 'pretti', 'preval', 'prevent', 'preview', 'previou', 'previous', 'price', 'pride', 'primari', 'princ', 'princess', 'print', 'prior', 'pro', 'probabl', 'problem', 'proceed', 'process', 'procur', 'produc', 'product', 'profil', 'program', 'progress', 'project', 'prologu', 'promin', 'promis', 'promo', 'promot', 'prompt', 'prompto', 'pronounc', 'pronunci', 'proof', 'prop', 'proper', 'properli', 'protagonist', 'protect', 'proud', 'prove', 'provid', 'ps', 'psa', 'psn', 'psu', 'psych', 'public', 'publish', 'pull', 'pump', 'punk', 'purchas', 'pure', 'purist', 'purpos', 'pursu', 'push', 'put', 'puzzl', 'qjybyni', 'qp', 'qualiti', 'quay', 'quest', 'question', 'questioni', 'questionsi', 'questsi', 'queue', 'quick', 'quickli', 'quiet', 'quit', 'race', 'radio', 'rail', 'rainbow', 'rais', 'ram', 'ramuh', 'ran', 'ranch', 'random', 'randomli', 'rang', 'rank', 'rant', 'rare', 'rate', 'rather', 'ravatogh', 'ravu', 'ray', 'rd', 're', 'reach', 'react', 'reaction', 'reactor', 'read', 'readi', 'real', 'realis', 'realism', 'realist', 'realiti', 'realiz', 'realli', 'realm', 'reappear', 'reason', 'recal', 'recap', 'receiv', 'recent', 'recept', 'recip', 'reckon', 'reclaim', 'recogn', 'recommend', 'record', 'recov', 'recreat', 'recruit', 'red', 'redd', 'reddit', 'redeem', 'redesign', 'redo', 'redownload', 'reduc', 'reev', 'refer', 'reflect', 'refresh', 'refus', 'regain', 'regalia', 'regard', 'regardless', 'regi', 'region', 'regist', 'regret', 'regular', 'regularli', 'reimagin', 'reinstal', 'reject', 'rel', 'relat', 'relationship', 'relax', 'releas', 'relev', 'reli', 'reliabl', 'reload', 'remad', 'remain', 'remak', 'remast', 'remedi', 'rememb', 'remind', 'remix', 'remnant', 'remodel', 'remot', 'remov', 'render', 'rendit', 'reno', 'reorder', 'repair', 'repeat', 'repetit', 'replac', 'replay', 'repli', 'replica', 'report', 'repres', 'request', 'requir', 'rescu', 'reserv', 'reset', 'resid', 'resist', 'resolut', 'resolv', 'reson', 'resourc', 'respawn', 'respect', 'respond', 'respons', 'rest', 'restart', 'restaur', 'restor', 'result', 'retain', 'return', 'reunion', 'reveal', 'reveng', 'revers', 'review', 'revis', 'revisit', 'reviv', 'reward', 'rewatch', 'rework', 'rffxv', 'ribbon', 'ride', 'ridicul', 'rig', 'right', 'ring', 'rip', 'rise', 'risk', 'rival', 'rli', 'road', 'roadsid', 'roam', 'roar', 'robot', 'roch', 'rock', 'role', 'roll', 'roman', 'room', 'rose', 'roughli', 'round', 'royal', 'rpg', 'rtx', 'rubi', 'rude', 'rufu', 'ruin', 'rule', 'rumor', 'run', 'ruse', 'rush', 'ryzen', 'sacrif', 'sacrific', 'sad', 'sadli', 'safe', 'saga', 'said', 'sail', 'sake', 'sale', 'samsung', 'samurai', 'sand', 'sat', 'satisfi', 'saturday', 'saucer', 'save', 'saw', 'say', 'scale', 'scare', 'scari', 'scenario', 'scene', 'sceneit', 'sceneri', 'scenic', 'schedul', 'school', 'scope', 'score', 'scorpion', 'scrap', 'scratch', 'scream', 'screen', 'screenshot', 'screw', 'script', 'se', 'sea', 'seal', 'seamlessli', 'search', 'season', 'sec', 'second', 'secondari', 'secret', 'section', 'sector', 'secur', 'see', 'seek', 'seem', 'seemingli', 'seen', 'segment', 'select', 'self', 'selfi', 'sell', 'seller', 'semi', 'send', 'sens', 'sent', 'sentenc', 'sentiment', 'sentinel', 'separ', 'sephi', 'sephiroth', 'septemb', 'sequel', 'sequenc', 'seri', 'serial', 'seriou', 'serious', 'serv', 'server', 'servic', 'set', 'settl', 'seventh', 'sever', 'sewer', 'shadow', 'shame', 'shape', 'share', 'shee', 'sheet', 'shelv', 'shi', 'shield', 'shift', 'shine', 'shini', 'shinra', 'ship', 'shit', 'shiva', 'shock', 'shoe', 'shook', 'shoot', 'shooter', 'shop', 'short', 'shortcom', 'shortcut', 'shorten', 'shortli', 'shot', 'shoulder', 'shout', 'show', 'showcas', 'shown', 'si', 'sibl', 'sick', 'side', 'sidequest', 'sight', 'sigil', 'sign', 'signific', 'significantli', 'silenc', 'silent', 'siliconera', 'silli', 'silver', 'sim', 'similar', 'similarli', 'simpl', 'simpli', 'sinc', 'sing', 'singl', 'singular', 'sister', 'sit', 'site', 'sith', 'situat', 'six', 'size', 'skill', 'skin', 'skip', 'sky', 'skytre', 'slash', 'slay', 'sleep', 'slight', 'slightli', 'slim', 'slot', 'slow', 'slowli', 'slum', 'small', 'smaller', 'smooth', 'smoothli', 'snake', 'snap', 'snapshot', 'sneak', 'snowmobil', 'social', 'sold', 'soldier', 'solo', 'solut', 'solv', 'somebodi', 'somehow', 'someon', 'someth', 'sometim', 'somewhat', 'somewher', 'somnu', 'son', 'song', 'soni', 'soon', 'sora', 'sorri', 'sort', 'soul', 'sound', 'soundtrack', 'sourc', 'south', 'sp', 'space', 'spam', 'spawn', 'speak', 'spec', 'special', 'specif', 'specul', 'spell', 'spend', 'spent', 'spin', 'spirit', 'split', 'spoil', 'spoiler', 'spoke', 'spoken', 'spooki', 'spot', 'spotifi', 'sprint', 'squar', 'squat', 'ssd', 'st', 'stab', 'stabl', 'stadia', 'staff', 'stage', 'stand', 'standalon', 'standard', 'star', 'starscourg', 'start', 'stat', 'state', 'statement', 'station', 'statu', 'stay', 'steadi', 'steal', 'stealth', 'steam', 'steamcommun', 'steel', 'steelbook', 'step', 'stereotyp', 'steyliff', 'stick', 'still', 'stink', 'stock', 'stoke', 'stolen', 'stone', 'stood', 'stop', 'store', 'stori', 'storylin', 'storytel', 'straight', 'strand', 'strang', 'stranger', 'strategi', 'stream', 'street', 'strength', 'stress', 'stretch', 'strife', 'strike', 'string', 'strong', 'stronger', 'structur', 'struggl', 'stuck', 'studi', 'studio', 'stuff', 'stumbl', 'stupid', 'stutter', 'style', 'sub', 'subject', 'subreddit', 'subscrib', 'subsequ', 'substanti', 'subtitl', 'subtl', 'success', 'suck', 'sucker', 'suddenli', 'suffer', 'suggest', 'suit', 'summar', 'summer', 'summon', 'sun', 'super', 'superboss', 'suppli', 'support', 'suppos', 'supposedli', 'sure', 'surpris', 'surround', 'surviv', 'suspect', 'swamp', 'swap', 'swear', 'sweet', 'swing', 'switch', 'sword', 'swore', 'sync', 'system', 'tabata', 'tackl', 'tactic', 'tag', 'tail', 'taipei', 'take', 'taken', 'talk', 'tall', 'tank', 'target', 'tast', 'taunt', 'tax', 'tb', 'team', 'teas', 'teaser', 'tech', 'technic', 'techniqu', 'tekken', 'tell', 'templ', 'tenebra', 'term', 'terra', 'terribl', 'terrifi', 'test', 'tetsuya', 'text', 'textur', 'tf', 'tg', 'tga', 'th', 'thank', 'that', 'theme', 'theori', 'there', 'therefor', 'thick', 'thicket', 'thing', 'think', 'third', 'tho', 'thoroughli', 'though', 'thought', 'thousand', 'thread', 'threat', 'three', 'threw', 'thrill', 'throne', 'throughout', 'throw', 'thrust', 'thu', 'thunder', 'ti', 'ticket', 'tie', 'tier', 'tifa', 'tight', 'til', 'till', 'time', 'timelin', 'timer', 'tini', 'tip', 'tipster', 'tire', 'titan', 'titl', 'tl', 'tldr', 'today', 'todayi', 'toe', 'togeth', 'tokyo', 'told', 'tomb', 'tomorrow', 'ton', 'tone', 'tonight', 'took', 'top', 'topic', 'torn', 'toss', 'total', 'touch', 'tough', 'tour', 'toward', 'tower', 'town', 'toy', 'trace', 'track', 'trade', 'tradit', 'tragedi', 'tragic', 'trailer', 'train', 'traitor', 'tram', 'transfer', 'transform', 'transit', 'translat', 'trap', 'travel', 'travers', 'treat', 'treatment', 'tree', 'tri', 'trial', 'triangl', 'trick', 'trigger', 'trio', 'trip', 'triumphant', 'trivial', 'trophi', 'troubl', 'true', 'truest', 'truli', 'trust', 'truth', 'tseng', 'tuesday', 'tune', 'turk', 'turn', 'tutori', 'tv', 'tweet', 'twice', 'twinfinit', 'twist', 'twitter', 'two', 'type', 'typic', 'ud', 'ugh', 'ugli', 'uh', 'ui', 'ulric', 'ultim', 'ultima', 'um', 'umbra', 'unabl', 'unansw', 'unavail', 'unchart', 'undergon', 'underground', 'underlevel', 'underneath', 'underr', 'understand', 'understood', 'undertak', 'underwhelm', 'unexpect', 'unfinish', 'unfortun', 'uninstal', 'uniqu', 'unit', 'univers', 'unknown', 'unleash', 'unless', 'unlik', 'unlock', 'unlucki', 'unnecessari', 'unrealist', 'unsur', 'untouch', 'unus', 'up', 'upcom', 'updat', 'upgrad', 'upi', 'upload', 'upon', 'upper', 'upscal', 'upset', 'us', 'usa', 'usag', 'usb', 'usd', 'use', 'useless', 'user', 'usp', 'usual', 'util', 'utilis', 'utm', 'va', 'vacat', 'vagu', 'valid', 'valu', 'van', 'vanilla', 'vanish', 'variant', 'variat', 'varieti', 'variou', 'vast', 'vehicl', 'vendor', 'vengeanc', 'vent', 'ventur', 'ver', 'verg', 'verifi', 'vers', 'versa', 'version', 'versu', 'vertic', 'vesperpool', 'vessel', 'vga', 'vi', 'via', 'vibe', 'vice', 'victori', 'video', 'view', 'vii', 'villag', 'villain', 'vincent', 'vinyl', 'virtual', 'vision', 'visit', 'visual', 'vocal', 'voic', 'volum', 'vortex', 'vow', 'vs', 'vulner', 'vyzz', 'wait', 'wake', 'walk', 'walkthrough', 'wall', 'wallac', 'wallpap', 'walmart', 'waltz', 'wander', 'wanna', 'want', 'war', 'wari', 'warm', 'warn', 'warp', 'warrant', 'warrior', 'wasnt', 'wast', 'wasteland', 'watch', 'watchmen', 'water', 'waterfal', 'wave', 'way', 'weak', 'weaker', 'weapon', 'weaponi', 'weaponri', 'wear', 'weav', 'web', 'webp', 'websit', 'wedg', 'wednesday', 'week', 'weekend', 'weight', 'weird', 'welcom', 'well', 'went', 'west', 'western', 'what', 'whatev', 'whatsoev', 'wheel', 'whenev', 'wherea', 'wherev', 'whether', 'whip', 'whisker', 'whistl', 'white', 'whole', 'whose', 'wide', 'width', 'wield', 'wife', 'wiki', 'wild', 'will', 'win', 'wind', 'window', 'wing', 'winter', 'wipe', 'wise', 'wish', 'wit', 'witcher', 'within', 'without', 'woman', 'women', 'wonder', 'wont', 'word', 'wordpress', 'work', 'world', 'worldwid', 'worri', 'wors', 'worst', 'worth', 'would', 'wouldnt', 'wound', 'wp', 'wrap', 'wreck', 'write', 'written', 'wrong', 'wrote', 'wtf', 'wutai', 'www', 'xb', 'xbox', 'xd', 'xf', 'xii', 'xiii', 'xiv', 'xp', 'xsgv', 'xt', 'xv', 'ya', 'yard', 'yay', 'ye', 'yea', 'yeah', 'year', 'yell', 'yellow', 'yesterday', 'yet', 'yield', 'yore', 'yoshinori', 'young', 'youtu', 'youtub', 'yozora', 'ytimg', 'yuffi', 'zack', 'zegnautu', 'zero', 'zolom', 'zone', 'zoom']\n"
     ]
    }
   ],
   "source": [
    "# Instantiate the \"CountVectorizer\" object with the best parameters for NB model\n",
    "cvec = CountVectorizer(max_df = 0.9,\n",
    "                       max_features = 3000,\n",
    "                       min_df = 2,\n",
    "                       ngram_range = (1, 1))\n",
    "\n",
    "#Applying CountVectorizer onto both train and test data\n",
    "X_train_cvec = pd.DataFrame(cvec.fit_transform(clean_train_titles).todense(),\n",
    "                          columns = cvec.get_feature_names())\n",
    "X_test_cvec = pd.DataFrame(cvec.transform(clean_test_titles).todense(),\n",
    "                         columns = cvec.get_feature_names())\n",
    "vocab = cvec.get_feature_names()\n",
    "print(vocab)"
   ]
  },
  {
   "cell_type": "markdown",
   "metadata": {},
   "source": [
    "## Model #1 Fitting and Evaluation\n",
    "---\n",
    "\n",
    "The following section fits the `Naive Bayes` model on the training data and evaluates the model performance on test data."
   ]
  },
  {
   "cell_type": "code",
   "execution_count": 39,
   "metadata": {},
   "outputs": [
    {
     "name": "stdout",
     "output_type": "stream",
     "text": [
      "Naive Bayes Training Score:  0.9518970189701897\n",
      "Naive Bayes Test Score:  0.8823529411764706\n"
     ]
    }
   ],
   "source": [
    "#Model Initialization and Fitting\n",
    "nb = MultinomialNB()\n",
    "model = nb.fit(X_train_cvec, y_train)\n",
    "print('Naive Bayes Training Score: ', model.score(X_train_cvec, y_train))\n",
    "print('Naive Bayes Test Score: ', model.score(X_test_cvec, y_test))"
   ]
  },
  {
   "cell_type": "code",
   "execution_count": 40,
   "metadata": {
    "scrolled": true
   },
   "outputs": [
    {
     "name": "stdout",
     "output_type": "stream",
     "text": [
      "True Negative: 230\n",
      "False Positive: 18\n",
      "False Negative: 40\n",
      "True Positive: 205\n",
      "Number of Tests: 493\n"
     ]
    },
    {
     "data": {
      "text/html": [
       "<div>\n",
       "<style scoped>\n",
       "    .dataframe tbody tr th:only-of-type {\n",
       "        vertical-align: middle;\n",
       "    }\n",
       "\n",
       "    .dataframe tbody tr th {\n",
       "        vertical-align: top;\n",
       "    }\n",
       "\n",
       "    .dataframe thead th {\n",
       "        text-align: right;\n",
       "    }\n",
       "</style>\n",
       "<table border=\"1\" class=\"dataframe\">\n",
       "  <thead>\n",
       "    <tr style=\"text-align: right;\">\n",
       "      <th></th>\n",
       "      <th>Pred FFVII Remake</th>\n",
       "      <th>Pred FFXV</th>\n",
       "    </tr>\n",
       "  </thead>\n",
       "  <tbody>\n",
       "    <tr>\n",
       "      <th>Actual FFVII Remake</th>\n",
       "      <td>230</td>\n",
       "      <td>18</td>\n",
       "    </tr>\n",
       "    <tr>\n",
       "      <th>Actual FFXV</th>\n",
       "      <td>40</td>\n",
       "      <td>205</td>\n",
       "    </tr>\n",
       "  </tbody>\n",
       "</table>\n",
       "</div>"
      ],
      "text/plain": [
       "                     Pred FFVII Remake  Pred FFXV\n",
       "Actual FFVII Remake                230         18\n",
       "Actual FFXV                         40        205"
      ]
     },
     "execution_count": 40,
     "metadata": {},
     "output_type": "execute_result"
    }
   ],
   "source": [
    "pred = model.predict(X_test_cvec)\n",
    "cm = confusion_matrix(y_test, pred)\n",
    "tn, fp, fn, tp = cm.ravel()\n",
    "print ('True Negative:', tn)\n",
    "print ('False Positive:', fp)\n",
    "print ('False Negative:', fn)\n",
    "print ('True Positive:', tp)\n",
    "cm_df = pd.DataFrame(cm, columns=['Pred FFVII Remake', 'Pred FFXV'], index=['Actual FFVII Remake', 'Actual FFXV'])\n",
    "print('Number of Tests:', y_test.shape[0])\n",
    "cm_df"
   ]
  },
  {
   "cell_type": "code",
   "execution_count": 21,
   "metadata": {},
   "outputs": [
    {
     "data": {
      "text/plain": [
       "0    0.503809\n",
       "1    0.496191\n",
       "Name: label, dtype: float64"
      ]
     },
     "execution_count": 21,
     "metadata": {},
     "output_type": "execute_result"
    }
   ],
   "source": [
    "df['label'].value_counts(normalize=True)"
   ]
  },
  {
   "cell_type": "markdown",
   "metadata": {},
   "source": [
    "The Naive Bayes has a test score of 0.882, and performed better than the baseline accurarcy score of 0.504. Overfitting is not severe as the score difference is less than 10% when compared to training score."
   ]
  },
  {
   "cell_type": "code",
   "execution_count": 41,
   "metadata": {},
   "outputs": [],
   "source": [
    "#prob for positive class\n",
    "pos_class_prob_sorted = nb.feature_log_prob_[0, :].argsort()\n",
    "#prob for negative class\n",
    "neg_class_prob_sorted = nb.feature_log_prob_[1, :].argsort()\n",
    "\n",
    "#getting the top features \n",
    "ffviir_top_features = np.take(cvec.get_feature_names(), neg_class_prob_sorted)\n",
    "ffxv_top_features = np.take(cvec.get_feature_names(), pos_class_prob_sorted)"
   ]
  },
  {
   "cell_type": "code",
   "execution_count": 42,
   "metadata": {},
   "outputs": [
    {
     "data": {
      "text/plain": [
       "array(['zoom', 'oip', 'dope', 'specul', 'buster', 'ogklyudbl', 'ocean',\n",
       "       'downvot', 'bump', 'bullet', 'st', 'dpr', 'staff', 'buff',\n",
       "       'statement', 'observatori', 'nut', 'briefli', 'briana',\n",
       "       'dualshock', 'noon', 'breakdown', 'nonsens', 'brace', 'stretch',\n",
       "       'box', 'dood', 'sneak', 'cafe', 'cait', 'cee', 'dialog', 'pid',\n",
       "       'shorten', 'payment', 'pay', 'showcas', 'si', 'patient', 'cash',\n",
       "       'silenc', 'siliconera', 'bout', 'pari', 'display', 'capac',\n",
       "       'overzeal', 'canyon', 'sith', 'canon', 'overworld', 'outright',\n",
       "       'skytre', 'outcom', 'slim', 'slum', 'parachut', 'cell', 'strife',\n",
       "       'structur', 'teas', 'na', 'bi', 'templ', 'egg', 'terrifi', 'egx',\n",
       "       'muddl', 'tg', 'tga', 'bentley', 'mouth', 'motorcycl', 'elmyra',\n",
       "       'motorbik', 'thrill', 'motor', 'emerald', 'monday', 'employe',\n",
       "       'tifa', 'beam', 'mo', 'mistaken', 'todayi', 'tax', 'tast',\n",
       "       'taipei', 'bike', 'nibel', 'newest', 'dx', 'net', 'dyne', 'bonus',\n",
       "       'neon', 'subsequ', 'bolt', 'neo', 'subtl'], dtype='<U15')"
      ]
     },
     "execution_count": 42,
     "metadata": {},
     "output_type": "execute_result"
    }
   ],
   "source": [
    "#FFVII Remake top features\n",
    "ffviir_top_features[:100]"
   ]
  },
  {
   "cell_type": "code",
   "execution_count": 43,
   "metadata": {
    "scrolled": false
   },
   "outputs": [
    {
     "data": {
      "text/plain": [
       "array(['potion', 'prompt', 'hung', 'properli', 'campfir', 'protagonist',\n",
       "       'camp', 'proud', 'psu', 'ddr', 'quay', 'questioni', 'questionsi',\n",
       "       'caestino', 'caem', 'dawn', 'caelum', 'quiet', 'ddu', 'ram',\n",
       "       'ramuh', 'butteri', 'ravatogh', 'ravu', 'realm', 'deadlin',\n",
       "       'recip', 'reclaim', 'recommend', 'recov', 'redeem', 'questsi',\n",
       "       'held', 'prologu', 'cape', 'dagger', 'phantom', 'certif', 'injur',\n",
       "       'photograph', 'photographi', 'piano', 'pitfal', 'pitioss',\n",
       "       'infinit', 'infiltr', 'pleasur', 'danger', 'poison', 'program',\n",
       "       'dust', 'catch', 'incomplet', 'ill', 'datalog', 'cartanica', 'iii',\n",
       "       'carniv', 'igni', 'iggi', 'princess', 'proceed', 'dave', 'caption',\n",
       "       'profil', 'pour', 'daemon', 'redownload', 'regain', 'roman',\n",
       "       'room', 'rose', 'gtx', 'rtx', 'boat', 'gralea', 'defend', 'ryzen',\n",
       "       'gpu', 'sail', 'gourmand', 'bless', 'blaze', 'rock', 'goddess',\n",
       "       'sea', 'seal', 'glori', 'glaiv', 'gladiolu', 'seek', 'selfi',\n",
       "       'gladio', 'demon', 'sentiment', 'shame', 'sheet', 'deni', 'shine',\n",
       "       'corsair'], dtype='<U15')"
      ]
     },
     "execution_count": 43,
     "metadata": {},
     "output_type": "execute_result"
    }
   ],
   "source": [
    "#FFXV top features\n",
    "ffxv_top_features[:100]"
   ]
  },
  {
   "cell_type": "markdown",
   "metadata": {},
   "source": [
    "## Model #2 Fitting and Evaluation\n",
    "---\n",
    "\n",
    "The following section uses a `Logistic Regression` models, and the model's performance will be evaluated against `Naive Bayes`."
   ]
  },
  {
   "cell_type": "code",
   "execution_count": 44,
   "metadata": {},
   "outputs": [
    {
     "name": "stdout",
     "output_type": "stream",
     "text": [
      "Logistic Regression Training Score:  0.9905149051490515\n",
      "Logistic Regression Test Score:  0.8782961460446247\n"
     ]
    },
    {
     "name": "stderr",
     "output_type": "stream",
     "text": [
      "C:\\Users\\JK\\Anaconda3\\lib\\site-packages\\sklearn\\linear_model\\logistic.py:432: FutureWarning: Default solver will be changed to 'lbfgs' in 0.22. Specify a solver to silence this warning.\n",
      "  FutureWarning)\n"
     ]
    }
   ],
   "source": [
    "#Model Initialization and Fitting\n",
    "lr = LogisticRegression()\n",
    "model = lr.fit(X_train_cvec, y_train)\n",
    "print('Logistic Regression Training Score: ', model.score(X_train_cvec, y_train))\n",
    "print('Logistic Regression Test Score: ', model.score(X_test_cvec, y_test))"
   ]
  },
  {
   "cell_type": "code",
   "execution_count": 45,
   "metadata": {
    "scrolled": true
   },
   "outputs": [
    {
     "name": "stdout",
     "output_type": "stream",
     "text": [
      "True Negative: 211\n",
      "False Positive: 37\n",
      "False Negative: 23\n",
      "True Positive: 222\n",
      "Number of Tests: 493\n"
     ]
    },
    {
     "data": {
      "text/html": [
       "<div>\n",
       "<style scoped>\n",
       "    .dataframe tbody tr th:only-of-type {\n",
       "        vertical-align: middle;\n",
       "    }\n",
       "\n",
       "    .dataframe tbody tr th {\n",
       "        vertical-align: top;\n",
       "    }\n",
       "\n",
       "    .dataframe thead th {\n",
       "        text-align: right;\n",
       "    }\n",
       "</style>\n",
       "<table border=\"1\" class=\"dataframe\">\n",
       "  <thead>\n",
       "    <tr style=\"text-align: right;\">\n",
       "      <th></th>\n",
       "      <th>Pred FFVII Remake</th>\n",
       "      <th>Pred FFXV</th>\n",
       "    </tr>\n",
       "  </thead>\n",
       "  <tbody>\n",
       "    <tr>\n",
       "      <th>Actual FFVII Remake</th>\n",
       "      <td>211</td>\n",
       "      <td>37</td>\n",
       "    </tr>\n",
       "    <tr>\n",
       "      <th>Actual FFXV</th>\n",
       "      <td>23</td>\n",
       "      <td>222</td>\n",
       "    </tr>\n",
       "  </tbody>\n",
       "</table>\n",
       "</div>"
      ],
      "text/plain": [
       "                     Pred FFVII Remake  Pred FFXV\n",
       "Actual FFVII Remake                211         37\n",
       "Actual FFXV                         23        222"
      ]
     },
     "execution_count": 45,
     "metadata": {},
     "output_type": "execute_result"
    }
   ],
   "source": [
    "#Model Evaluation\n",
    "pred = model.predict(X_test_cvec)\n",
    "cm = confusion_matrix(y_test, pred)\n",
    "tn, fp, fn, tp = cm.ravel()\n",
    "print ('True Negative:', tn)\n",
    "print ('False Positive:', fp)\n",
    "print ('False Negative:', fn)\n",
    "print ('True Positive:', tp)\n",
    "cm_df = pd.DataFrame(cm, columns=['Pred FFVII Remake', 'Pred FFXV'], index=['Actual FFVII Remake', 'Actual FFXV'])\n",
    "print('Number of Tests:', y_test.shape[0])\n",
    "cm_df"
   ]
  },
  {
   "cell_type": "markdown",
   "metadata": {},
   "source": [
    "In general, Logistic Regression's test score is comparable with Naive Bayes. Overfitting is not severe as the score difference is less than 10% when compared to training score. However, it seems to perform better in False Negative results. Let's combine it with Naive Bayes and see if the performance is better."
   ]
  },
  {
   "cell_type": "markdown",
   "metadata": {},
   "source": [
    "## Model #3 Fitting and Evaluation\n",
    "---\n",
    "\n",
    "The following section uses a `Voting Classifier` model which incorporates the `Naive Bayes` and `Logistic Regression` models, and the model's performance will be evaluated."
   ]
  },
  {
   "cell_type": "code",
   "execution_count": 46,
   "metadata": {},
   "outputs": [
    {
     "data": {
      "text/plain": [
       "{'lr__C': 0.5}"
      ]
     },
     "execution_count": 46,
     "metadata": {},
     "output_type": "execute_result"
    }
   ],
   "source": [
    "#Model Initialization and Fitting\n",
    "vote = VotingClassifier([\n",
    "    ('lr', LogisticRegression(solver = 'lbfgs')),\n",
    "    ('nb', MultinomialNB()),\n",
    "])\n",
    "vote_params = {'lr__C': [0.5, 1, 10, 50, 100]}\n",
    "gs = GridSearchCV(vote, param_grid = vote_params, cv = 3)\n",
    "gs.fit(X_train_cvec, y_train)\n",
    "gs.best_params_"
   ]
  },
  {
   "cell_type": "code",
   "execution_count": 47,
   "metadata": {},
   "outputs": [
    {
     "name": "stderr",
     "output_type": "stream",
     "text": [
      "C:\\Users\\JK\\Anaconda3\\lib\\site-packages\\sklearn\\linear_model\\logistic.py:432: FutureWarning: Default solver will be changed to 'lbfgs' in 0.22. Specify a solver to silence this warning.\n",
      "  FutureWarning)\n"
     ]
    },
    {
     "name": "stdout",
     "output_type": "stream",
     "text": [
      "0.959349593495935\n",
      "0.8742393509127789\n"
     ]
    }
   ],
   "source": [
    "#Model Re-Initialization with best parameter and Fitting\n",
    "vote = VotingClassifier([\n",
    "    ('lr', LogisticRegression(C=0.5)),\n",
    "    ('nb', MultinomialNB()),\n",
    "])\n",
    "model = vote.fit(X_train_cvec, y_train)\n",
    "print(model.score(X_train_cvec, y_train))\n",
    "print(model.score(X_test_cvec, y_test))"
   ]
  },
  {
   "cell_type": "code",
   "execution_count": 33,
   "metadata": {},
   "outputs": [
    {
     "name": "stdout",
     "output_type": "stream",
     "text": [
      "True Negative: 231\n",
      "False Positive: 17\n",
      "False Negative: 50\n",
      "True Positive: 195\n"
     ]
    },
    {
     "data": {
      "text/html": [
       "<div>\n",
       "<style scoped>\n",
       "    .dataframe tbody tr th:only-of-type {\n",
       "        vertical-align: middle;\n",
       "    }\n",
       "\n",
       "    .dataframe tbody tr th {\n",
       "        vertical-align: top;\n",
       "    }\n",
       "\n",
       "    .dataframe thead th {\n",
       "        text-align: right;\n",
       "    }\n",
       "</style>\n",
       "<table border=\"1\" class=\"dataframe\">\n",
       "  <thead>\n",
       "    <tr style=\"text-align: right;\">\n",
       "      <th></th>\n",
       "      <th>Pred FFVII Remake</th>\n",
       "      <th>Pred FFXV</th>\n",
       "    </tr>\n",
       "  </thead>\n",
       "  <tbody>\n",
       "    <tr>\n",
       "      <th>Actual FFVII Remake</th>\n",
       "      <td>231</td>\n",
       "      <td>17</td>\n",
       "    </tr>\n",
       "    <tr>\n",
       "      <th>Actual FFXV</th>\n",
       "      <td>50</td>\n",
       "      <td>195</td>\n",
       "    </tr>\n",
       "  </tbody>\n",
       "</table>\n",
       "</div>"
      ],
      "text/plain": [
       "                     Pred FFVII Remake  Pred FFXV\n",
       "Actual FFVII Remake                231         17\n",
       "Actual FFXV                         50        195"
      ]
     },
     "execution_count": 33,
     "metadata": {},
     "output_type": "execute_result"
    }
   ],
   "source": [
    "pred = model.predict(X_test_cvec)\n",
    "cm = confusion_matrix(y_test, pred)\n",
    "tn, fp, fn, tp = cm.ravel()\n",
    "print ('True Negative:', tn)\n",
    "print ('False Positive:', fp)\n",
    "print ('False Negative:', fn)\n",
    "print ('True Positive:', tp)\n",
    "cm_df = pd.DataFrame(cm, columns=['Pred FFVII Remake', 'Pred FFXV'], index=['Actual FFVII Remake', 'Actual FFXV'])\n",
    "cm_df"
   ]
  },
  {
   "cell_type": "markdown",
   "metadata": {},
   "source": [
    "In general, the Voting Classifier's test score is comparable, but does not improvement in the False Positive scoring. Overfitting is not severe as the score difference is less than 10% when compared to training score."
   ]
  },
  {
   "cell_type": "code",
   "execution_count": null,
   "metadata": {},
   "outputs": [],
   "source": []
  }
 ],
 "metadata": {
  "kernelspec": {
   "display_name": "Python 3",
   "language": "python",
   "name": "python3"
  },
  "language_info": {
   "codemirror_mode": {
    "name": "ipython",
    "version": 3
   },
   "file_extension": ".py",
   "mimetype": "text/x-python",
   "name": "python",
   "nbconvert_exporter": "python",
   "pygments_lexer": "ipython3",
   "version": "3.7.4"
  }
 },
 "nbformat": 4,
 "nbformat_minor": 2
}
