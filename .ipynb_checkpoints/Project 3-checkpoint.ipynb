{
 "cells": [
  {
   "cell_type": "markdown",
   "metadata": {},
   "source": [
    "## Importing libaries\n",
    "---\n",
    "\n",
    "We'll need the following libraries for this project:"
   ]
  },
  {
   "cell_type": "code",
   "execution_count": 1,
   "metadata": {},
   "outputs": [],
   "source": [
    "import matplotlib.pyplot as plt\n",
    "import numpy as np\n",
    "import pandas as pd\n",
    "import random\n",
    "import regex as re\n",
    "import requests\n",
    "import seaborn as sns\n",
    "import time\n",
    "%matplotlib inline\n",
    "%config IPCompleter.greedy=True\n",
    "\n",
    "from bs4 import BeautifulSoup         \n",
    "from nltk.corpus import stopwords\n",
    "from nltk.stem.porter import PorterStemmer\n",
    "from sklearn.ensemble import VotingClassifier\n",
    "from sklearn.feature_extraction.text import CountVectorizer\n",
    "from sklearn.linear_model import LogisticRegression\n",
    "from sklearn.metrics import confusion_matrix\n",
    "from sklearn.model_selection import train_test_split, cross_val_score, train_test_split, GridSearchCV\n",
    "from sklearn.naive_bayes import MultinomialNB\n",
    "from sklearn.pipeline import Pipeline"
   ]
  },
  {
   "cell_type": "markdown",
   "metadata": {},
   "source": [
    "## Data Gathering\n",
    "---\n",
    "\n",
    "Two (2) Sub-Reddits are chosen for this project: Final Fantasy VII Remake (`FFVIIRemake`), and Final Fantasy XV (`FFXV`). The following section gathers data using the `requests` library from Reddit API."
   ]
  },
  {
   "cell_type": "code",
   "execution_count": 2,
   "metadata": {},
   "outputs": [],
   "source": [
    "#Url definitions of the Sub-Reddits\n",
    "url1 = 'https://www.reddit.com/r/FFVIIRemake.json'\n",
    "url2 = 'https://www.reddit.com/r/FFXV.json'"
   ]
  },
  {
   "cell_type": "code",
   "execution_count": 3,
   "metadata": {
    "scrolled": true
   },
   "outputs": [
    {
     "name": "stdout",
     "output_type": "stream",
     "text": [
      "https://www.reddit.com/r/FFVIIRemake.json\n",
      "https://www.reddit.com/r/FFVIIRemake.json?after=t3_eun0n7\n",
      "https://www.reddit.com/r/FFVIIRemake.json?after=t3_ersn8p\n",
      "https://www.reddit.com/r/FFVIIRemake.json?after=t3_eptprw\n",
      "https://www.reddit.com/r/FFVIIRemake.json?after=t3_epizlc\n",
      "https://www.reddit.com/r/FFVIIRemake.json?after=t3_eom8hr\n",
      "https://www.reddit.com/r/FFVIIRemake.json?after=t3_eo6j21\n",
      "https://www.reddit.com/r/FFVIIRemake.json?after=t3_emgdzu\n",
      "https://www.reddit.com/r/FFVIIRemake.json?after=t3_em4jf7\n",
      "https://www.reddit.com/r/FFVIIRemake.json?after=t3_el14p1\n",
      "https://www.reddit.com/r/FFVIIRemake.json?after=t3_eklpwu\n",
      "https://www.reddit.com/r/FFVIIRemake.json?after=t3_ej7u1l\n",
      "https://www.reddit.com/r/FFVIIRemake.json?after=t3_eijq8b\n",
      "https://www.reddit.com/r/FFVIIRemake.json?after=t3_eiceo8\n",
      "https://www.reddit.com/r/FFVIIRemake.json?after=t3_eiium8\n",
      "https://www.reddit.com/r/FFVIIRemake.json?after=t3_egkpto\n",
      "https://www.reddit.com/r/FFVIIRemake.json?after=t3_efjdf4\n",
      "https://www.reddit.com/r/FFVIIRemake.json?after=t3_ee7vaf\n",
      "https://www.reddit.com/r/FFVIIRemake.json?after=t3_edl1qj\n",
      "https://www.reddit.com/r/FFVIIRemake.json?after=t3_eci3y6\n",
      "https://www.reddit.com/r/FFVIIRemake.json?after=t3_ebn9sw\n",
      "https://www.reddit.com/r/FFVIIRemake.json?after=t3_ebl627\n",
      "https://www.reddit.com/r/FFVIIRemake.json?after=t3_eaznzy\n",
      "https://www.reddit.com/r/FFVIIRemake.json?after=t3_ea344q\n",
      "https://www.reddit.com/r/FFVIIRemake.json?after=t3_e9y3do\n",
      "https://www.reddit.com/r/FFVIIRemake.json?after=t3_e9eepp\n",
      "https://www.reddit.com/r/FFVIIRemake.json?after=t3_e7ptz3\n",
      "https://www.reddit.com/r/FFVIIRemake.json?after=t3_e66e3j\n",
      "https://www.reddit.com/r/FFVIIRemake.json?after=t3_e4zkvz\n",
      "https://www.reddit.com/r/FFVIIRemake.json?after=t3_e3hf3y\n",
      "https://www.reddit.com/r/FFVIIRemake.json?after=t3_e2ten2\n",
      "https://www.reddit.com/r/FFVIIRemake.json?after=t3_e2qbcw\n",
      "https://www.reddit.com/r/FFVIIRemake.json?after=t3_e1efqh\n",
      "https://www.reddit.com/r/FFVIIRemake.json?after=t3_dy54nm\n",
      "https://www.reddit.com/r/FFVIIRemake.json?after=t3_dw9uhb\n",
      "https://www.reddit.com/r/FFVIIRemake.json?after=t3_dtg6a0\n",
      "https://www.reddit.com/r/FFVIIRemake.json?after=t3_dqkrlw\n",
      "https://www.reddit.com/r/FFVIIRemake.json?after=t3_dnk3l3\n",
      "https://www.reddit.com/r/FFVIIRemake.json?after=t3_dk1k3h\n",
      "https://www.reddit.com/r/FFVIIRemake.json?after=t3_di76xg\n",
      "https://www.reddit.com/r/FFVIIRemake.json\n",
      "https://www.reddit.com/r/FFVIIRemake.json?after=t3_eun0n7\n",
      "https://www.reddit.com/r/FFVIIRemake.json?after=t3_ersn8p\n",
      "https://www.reddit.com/r/FFVIIRemake.json?after=t3_eptprw\n",
      "https://www.reddit.com/r/FFVIIRemake.json?after=t3_epizlc\n"
     ]
    }
   ],
   "source": [
    "#Data Gathering for FFVIRemake\n",
    "posts = []\n",
    "after = None\n",
    "\n",
    "for a in range(45):\n",
    "    if after == None:\n",
    "        current_url = url1\n",
    "    else:\n",
    "        current_url = url1 + '?after=' + after\n",
    "    print(current_url)\n",
    "    #Gather data using requests library\n",
    "    res = requests.get(current_url, headers={'User-agent': 'Pony Inc 1.0'})\n",
    "    \n",
    "    if res.status_code != 200:\n",
    "        print('Status error', res.status_code)\n",
    "        break\n",
    "    \n",
    "    current_dict = res.json()\n",
    "    current_posts = [p['data'] for p in current_dict['data']['children']]\n",
    "    posts.extend(current_posts)\n",
    "    after = current_dict['data']['after']\n",
    "    \n",
    "    if a > 0:\n",
    "        prev_posts = pd.read_csv('ffviir.csv')\n",
    "        current_df = pd.DataFrame()\n",
    "        \n",
    "    else:\n",
    "        pd.DataFrame(posts).to_csv('ffviir.csv', index = False)\n",
    "\n",
    "    # generate a random sleep duration to look more 'natural'\n",
    "    sleep_duration = random.randint(2,6)\n",
    "    # print(sleep_duration)\n",
    "    time.sleep(sleep_duration)"
   ]
  },
  {
   "cell_type": "code",
   "execution_count": 4,
   "metadata": {},
   "outputs": [
    {
     "name": "stdout",
     "output_type": "stream",
     "text": [
      "Total number of Sub-Reddit Posts: 1118\n"
     ]
    },
    {
     "data": {
      "text/html": [
       "<div>\n",
       "<style scoped>\n",
       "    .dataframe tbody tr th:only-of-type {\n",
       "        vertical-align: middle;\n",
       "    }\n",
       "\n",
       "    .dataframe tbody tr th {\n",
       "        vertical-align: top;\n",
       "    }\n",
       "\n",
       "    .dataframe thead th {\n",
       "        text-align: right;\n",
       "    }\n",
       "</style>\n",
       "<table border=\"1\" class=\"dataframe\">\n",
       "  <thead>\n",
       "    <tr style=\"text-align: right;\">\n",
       "      <th></th>\n",
       "      <th>approved_at_utc</th>\n",
       "      <th>subreddit</th>\n",
       "      <th>selftext</th>\n",
       "      <th>author_fullname</th>\n",
       "      <th>saved</th>\n",
       "      <th>mod_reason_title</th>\n",
       "      <th>gilded</th>\n",
       "      <th>clicked</th>\n",
       "      <th>title</th>\n",
       "      <th>link_flair_richtext</th>\n",
       "      <th>...</th>\n",
       "      <th>created_utc</th>\n",
       "      <th>num_crossposts</th>\n",
       "      <th>media</th>\n",
       "      <th>is_video</th>\n",
       "      <th>post_hint</th>\n",
       "      <th>preview</th>\n",
       "      <th>media_metadata</th>\n",
       "      <th>crosspost_parent_list</th>\n",
       "      <th>crosspost_parent</th>\n",
       "      <th>author_cakeday</th>\n",
       "    </tr>\n",
       "  </thead>\n",
       "  <tbody>\n",
       "    <tr>\n",
       "      <th>0</th>\n",
       "      <td>None</td>\n",
       "      <td>FFVIIRemake</td>\n",
       "      <td>This, here, and only here, will be where talk ...</td>\n",
       "      <td>t2_yfvhs</td>\n",
       "      <td>False</td>\n",
       "      <td>None</td>\n",
       "      <td>0</td>\n",
       "      <td>False</td>\n",
       "      <td>Spoiler containment unit: Abandon all hope ye ...</td>\n",
       "      <td>[]</td>\n",
       "      <td>...</td>\n",
       "      <td>1.577938e+09</td>\n",
       "      <td>0</td>\n",
       "      <td>None</td>\n",
       "      <td>False</td>\n",
       "      <td>NaN</td>\n",
       "      <td>NaN</td>\n",
       "      <td>NaN</td>\n",
       "      <td>NaN</td>\n",
       "      <td>NaN</td>\n",
       "      <td>NaN</td>\n",
       "    </tr>\n",
       "    <tr>\n",
       "      <th>1</th>\n",
       "      <td>None</td>\n",
       "      <td>FFVIIRemake</td>\n",
       "      <td>Hi everyone! Time has flown by and we're now l...</td>\n",
       "      <td>t2_10rf92</td>\n",
       "      <td>False</td>\n",
       "      <td>None</td>\n",
       "      <td>0</td>\n",
       "      <td>False</td>\n",
       "      <td>/r/FFVII Remake is looking for new moderators!</td>\n",
       "      <td>[]</td>\n",
       "      <td>...</td>\n",
       "      <td>1.578571e+09</td>\n",
       "      <td>0</td>\n",
       "      <td>None</td>\n",
       "      <td>False</td>\n",
       "      <td>self</td>\n",
       "      <td>{'images': [{'source': {'url': 'https://extern...</td>\n",
       "      <td>NaN</td>\n",
       "      <td>NaN</td>\n",
       "      <td>NaN</td>\n",
       "      <td>NaN</td>\n",
       "    </tr>\n",
       "    <tr>\n",
       "      <th>2</th>\n",
       "      <td>None</td>\n",
       "      <td>FFVIIRemake</td>\n",
       "      <td></td>\n",
       "      <td>t2_4fp9w1op</td>\n",
       "      <td>False</td>\n",
       "      <td>None</td>\n",
       "      <td>0</td>\n",
       "      <td>False</td>\n",
       "      <td>My Cloud Strife cosplay, hope you all like it ...</td>\n",
       "      <td>[]</td>\n",
       "      <td>...</td>\n",
       "      <td>1.580378e+09</td>\n",
       "      <td>0</td>\n",
       "      <td>None</td>\n",
       "      <td>False</td>\n",
       "      <td>image</td>\n",
       "      <td>{'images': [{'source': {'url': 'https://previe...</td>\n",
       "      <td>NaN</td>\n",
       "      <td>NaN</td>\n",
       "      <td>NaN</td>\n",
       "      <td>NaN</td>\n",
       "    </tr>\n",
       "    <tr>\n",
       "      <th>3</th>\n",
       "      <td>None</td>\n",
       "      <td>FFVIIRemake</td>\n",
       "      <td></td>\n",
       "      <td>t2_14l12o</td>\n",
       "      <td>False</td>\n",
       "      <td>None</td>\n",
       "      <td>0</td>\n",
       "      <td>False</td>\n",
       "      <td>Cloud Frog circle of pray for SE release the D...</td>\n",
       "      <td>[]</td>\n",
       "      <td>...</td>\n",
       "      <td>1.580399e+09</td>\n",
       "      <td>0</td>\n",
       "      <td>None</td>\n",
       "      <td>False</td>\n",
       "      <td>image</td>\n",
       "      <td>{'images': [{'source': {'url': 'https://previe...</td>\n",
       "      <td>NaN</td>\n",
       "      <td>NaN</td>\n",
       "      <td>NaN</td>\n",
       "      <td>NaN</td>\n",
       "    </tr>\n",
       "    <tr>\n",
       "      <th>4</th>\n",
       "      <td>None</td>\n",
       "      <td>FFVIIRemake</td>\n",
       "      <td></td>\n",
       "      <td>t2_4fp9w1op</td>\n",
       "      <td>False</td>\n",
       "      <td>None</td>\n",
       "      <td>0</td>\n",
       "      <td>False</td>\n",
       "      <td>People wanted a video of my Cloud Strife Cospl...</td>\n",
       "      <td>[]</td>\n",
       "      <td>...</td>\n",
       "      <td>1.580390e+09</td>\n",
       "      <td>0</td>\n",
       "      <td>{'reddit_video': {'fallback_url': 'https://v.r...</td>\n",
       "      <td>True</td>\n",
       "      <td>hosted:video</td>\n",
       "      <td>{'images': [{'source': {'url': 'https://extern...</td>\n",
       "      <td>NaN</td>\n",
       "      <td>NaN</td>\n",
       "      <td>NaN</td>\n",
       "      <td>NaN</td>\n",
       "    </tr>\n",
       "  </tbody>\n",
       "</table>\n",
       "<p>5 rows × 107 columns</p>\n",
       "</div>"
      ],
      "text/plain": [
       "  approved_at_utc    subreddit  \\\n",
       "0            None  FFVIIRemake   \n",
       "1            None  FFVIIRemake   \n",
       "2            None  FFVIIRemake   \n",
       "3            None  FFVIIRemake   \n",
       "4            None  FFVIIRemake   \n",
       "\n",
       "                                            selftext author_fullname  saved  \\\n",
       "0  This, here, and only here, will be where talk ...        t2_yfvhs  False   \n",
       "1  Hi everyone! Time has flown by and we're now l...       t2_10rf92  False   \n",
       "2                                                        t2_4fp9w1op  False   \n",
       "3                                                          t2_14l12o  False   \n",
       "4                                                        t2_4fp9w1op  False   \n",
       "\n",
       "  mod_reason_title  gilded  clicked  \\\n",
       "0             None       0    False   \n",
       "1             None       0    False   \n",
       "2             None       0    False   \n",
       "3             None       0    False   \n",
       "4             None       0    False   \n",
       "\n",
       "                                               title link_flair_richtext  ...  \\\n",
       "0  Spoiler containment unit: Abandon all hope ye ...                  []  ...   \n",
       "1     /r/FFVII Remake is looking for new moderators!                  []  ...   \n",
       "2  My Cloud Strife cosplay, hope you all like it ...                  []  ...   \n",
       "3  Cloud Frog circle of pray for SE release the D...                  []  ...   \n",
       "4  People wanted a video of my Cloud Strife Cospl...                  []  ...   \n",
       "\n",
       "    created_utc  num_crossposts  \\\n",
       "0  1.577938e+09               0   \n",
       "1  1.578571e+09               0   \n",
       "2  1.580378e+09               0   \n",
       "3  1.580399e+09               0   \n",
       "4  1.580390e+09               0   \n",
       "\n",
       "                                               media is_video     post_hint  \\\n",
       "0                                               None    False           NaN   \n",
       "1                                               None    False          self   \n",
       "2                                               None    False         image   \n",
       "3                                               None    False         image   \n",
       "4  {'reddit_video': {'fallback_url': 'https://v.r...     True  hosted:video   \n",
       "\n",
       "                                             preview  media_metadata  \\\n",
       "0                                                NaN             NaN   \n",
       "1  {'images': [{'source': {'url': 'https://extern...             NaN   \n",
       "2  {'images': [{'source': {'url': 'https://previe...             NaN   \n",
       "3  {'images': [{'source': {'url': 'https://previe...             NaN   \n",
       "4  {'images': [{'source': {'url': 'https://extern...             NaN   \n",
       "\n",
       "  crosspost_parent_list  crosspost_parent author_cakeday  \n",
       "0                   NaN               NaN            NaN  \n",
       "1                   NaN               NaN            NaN  \n",
       "2                   NaN               NaN            NaN  \n",
       "3                   NaN               NaN            NaN  \n",
       "4                   NaN               NaN            NaN  \n",
       "\n",
       "[5 rows x 107 columns]"
      ]
     },
     "execution_count": 4,
     "metadata": {},
     "output_type": "execute_result"
    }
   ],
   "source": [
    "#Checking the gathered posts\n",
    "ffviir = pd.DataFrame(posts)\n",
    "print('Total number of Sub-Reddit Posts:', len(ffviir))\n",
    "ffviir.head()"
   ]
  },
  {
   "cell_type": "code",
   "execution_count": 5,
   "metadata": {},
   "outputs": [
    {
     "name": "stdout",
     "output_type": "stream",
     "text": [
      "Number of Unduplicated Sub-Reddict Posts: 508\n"
     ]
    }
   ],
   "source": [
    "#Droppoing duplicated posts\n",
    "ffviir.drop_duplicates(subset = 'author_fullname', inplace = True)\n",
    "ffviir.to_csv('./ffviir.csv')\n",
    "print('Number of Unduplicated Sub-Reddict Posts:', len(ffviir))"
   ]
  },
  {
   "cell_type": "code",
   "execution_count": 6,
   "metadata": {},
   "outputs": [
    {
     "data": {
      "text/html": [
       "<div>\n",
       "<style scoped>\n",
       "    .dataframe tbody tr th:only-of-type {\n",
       "        vertical-align: middle;\n",
       "    }\n",
       "\n",
       "    .dataframe tbody tr th {\n",
       "        vertical-align: top;\n",
       "    }\n",
       "\n",
       "    .dataframe thead th {\n",
       "        text-align: right;\n",
       "    }\n",
       "</style>\n",
       "<table border=\"1\" class=\"dataframe\">\n",
       "  <thead>\n",
       "    <tr style=\"text-align: right;\">\n",
       "      <th></th>\n",
       "      <th>title</th>\n",
       "      <th>label</th>\n",
       "    </tr>\n",
       "  </thead>\n",
       "  <tbody>\n",
       "    <tr>\n",
       "      <th>0</th>\n",
       "      <td>Spoiler containment unit: Abandon all hope ye ...</td>\n",
       "      <td>0</td>\n",
       "    </tr>\n",
       "    <tr>\n",
       "      <th>1</th>\n",
       "      <td>/r/FFVII Remake is looking for new moderators!...</td>\n",
       "      <td>0</td>\n",
       "    </tr>\n",
       "    <tr>\n",
       "      <th>2</th>\n",
       "      <td>My Cloud Strife cosplay, hope you all like it ...</td>\n",
       "      <td>0</td>\n",
       "    </tr>\n",
       "    <tr>\n",
       "      <th>3</th>\n",
       "      <td>Cloud Frog circle of pray for SE release the D...</td>\n",
       "      <td>0</td>\n",
       "    </tr>\n",
       "    <tr>\n",
       "      <th>5</th>\n",
       "      <td>Why Cyberpunk?I noticed in the thread about th...</td>\n",
       "      <td>0</td>\n",
       "    </tr>\n",
       "  </tbody>\n",
       "</table>\n",
       "</div>"
      ],
      "text/plain": [
       "                                               title  label\n",
       "0  Spoiler containment unit: Abandon all hope ye ...      0\n",
       "1  /r/FFVII Remake is looking for new moderators!...      0\n",
       "2  My Cloud Strife cosplay, hope you all like it ...      0\n",
       "3  Cloud Frog circle of pray for SE release the D...      0\n",
       "5  Why Cyberpunk?I noticed in the thread about th...      0"
      ]
     },
     "execution_count": 6,
     "metadata": {},
     "output_type": "execute_result"
    }
   ],
   "source": [
    "#Data Preparation for Processing\n",
    "ffviir['title'] = ffviir[['title','selftext']].astype(str).apply(''.join, 1) #Consolidating selftext features into title\n",
    "ffviir = ffviir[['title']] #Keeping title and dropping the rest\n",
    "ffviir['label'] = 0 #Labeling the data with FFVIIRemake = 0\n",
    "ffviir.head()"
   ]
  },
  {
   "cell_type": "code",
   "execution_count": 7,
   "metadata": {},
   "outputs": [
    {
     "name": "stdout",
     "output_type": "stream",
     "text": [
      "https://www.reddit.com/r/FFXV.json\n",
      "https://www.reddit.com/r/FFXV.json?after=t3_ev6h5x\n",
      "https://www.reddit.com/r/FFXV.json?after=t3_etgb1d\n",
      "https://www.reddit.com/r/FFXV.json?after=t3_esp47f\n",
      "https://www.reddit.com/r/FFXV.json?after=t3_eqzgva\n",
      "https://www.reddit.com/r/FFXV.json?after=t3_epr881\n",
      "https://www.reddit.com/r/FFXV.json?after=t3_eoaqbz\n",
      "https://www.reddit.com/r/FFXV.json?after=t3_en02d3\n",
      "https://www.reddit.com/r/FFXV.json?after=t3_em1nv9\n",
      "https://www.reddit.com/r/FFXV.json?after=t3_ekwfn3\n",
      "https://www.reddit.com/r/FFXV.json?after=t3_ejrl5d\n",
      "https://www.reddit.com/r/FFXV.json?after=t3_eib374\n",
      "https://www.reddit.com/r/FFXV.json?after=t3_egrgcz\n",
      "https://www.reddit.com/r/FFXV.json?after=t3_efknv5\n",
      "https://www.reddit.com/r/FFXV.json?after=t3_ee84ku\n",
      "https://www.reddit.com/r/FFXV.json?after=t3_ed3hdc\n",
      "https://www.reddit.com/r/FFXV.json?after=t3_ebi4tb\n",
      "https://www.reddit.com/r/FFXV.json?after=t3_ea072p\n",
      "https://www.reddit.com/r/FFXV.json?after=t3_e8oviw\n",
      "https://www.reddit.com/r/FFXV.json?after=t3_e6qexx\n",
      "https://www.reddit.com/r/FFXV.json?after=t3_e4ic60\n",
      "https://www.reddit.com/r/FFXV.json?after=t3_e2za39\n",
      "https://www.reddit.com/r/FFXV.json?after=t3_e1glwq\n",
      "https://www.reddit.com/r/FFXV.json?after=t3_dzuapb\n",
      "https://www.reddit.com/r/FFXV.json?after=t3_dy3ckt\n",
      "https://www.reddit.com/r/FFXV.json?after=t3_dwnend\n",
      "https://www.reddit.com/r/FFXV.json?after=t3_dv2r0n\n",
      "https://www.reddit.com/r/FFXV.json?after=t3_dtlgca\n",
      "https://www.reddit.com/r/FFXV.json?after=t3_ds2ncr\n",
      "https://www.reddit.com/r/FFXV.json?after=t3_dqg16i\n",
      "https://www.reddit.com/r/FFXV.json?after=t3_dp1q7q\n",
      "https://www.reddit.com/r/FFXV.json?after=t3_do4qdj\n",
      "https://www.reddit.com/r/FFXV.json?after=t3_dnewc6\n",
      "https://www.reddit.com/r/FFXV.json?after=t3_dl8tw0\n",
      "https://www.reddit.com/r/FFXV.json?after=t3_dj9rlk\n",
      "https://www.reddit.com/r/FFXV.json?after=t3_di0w0r\n",
      "https://www.reddit.com/r/FFXV.json?after=t3_dggfci\n",
      "https://www.reddit.com/r/FFXV.json?after=t3_defkzl\n",
      "https://www.reddit.com/r/FFXV.json?after=t3_dd45bf\n",
      "https://www.reddit.com/r/FFXV.json?after=t3_dawj99\n",
      "https://www.reddit.com/r/FFXV.json\n",
      "https://www.reddit.com/r/FFXV.json?after=t3_ev6h5x\n",
      "https://www.reddit.com/r/FFXV.json?after=t3_etgb1d\n",
      "https://www.reddit.com/r/FFXV.json?after=t3_esp47f\n",
      "https://www.reddit.com/r/FFXV.json?after=t3_eqzgva\n"
     ]
    }
   ],
   "source": [
    "#Data Gathering for FFXV\n",
    "posts = []\n",
    "after = None\n",
    "\n",
    "for a in range(45):\n",
    "    if after == None:\n",
    "        current_url = url2\n",
    "    else:\n",
    "        current_url = url2 + '?after=' + after\n",
    "    print(current_url)\n",
    "    res = requests.get(current_url, headers={'User-agent': 'Pony Inc 1.0'})\n",
    "    \n",
    "    if res.status_code != 200:\n",
    "        print('Status error', res.status_code)\n",
    "        break\n",
    "    \n",
    "    current_dict = res.json()\n",
    "    current_posts = [p['data'] for p in current_dict['data']['children']]\n",
    "    posts.extend(current_posts)\n",
    "    after = current_dict['data']['after']\n",
    "    \n",
    "    if a > 0:\n",
    "        prev_posts = pd.read_csv('ffxv.csv')\n",
    "        current_df = pd.DataFrame()\n",
    "        \n",
    "    else:\n",
    "        pd.DataFrame(posts).to_csv('ffxv.csv', index = False)\n",
    "\n",
    "    # generate a random sleep duration to look more 'natural'\n",
    "    sleep_duration = random.randint(2,6)\n",
    "    # print(sleep_duration)\n",
    "    time.sleep(sleep_duration)"
   ]
  },
  {
   "cell_type": "code",
   "execution_count": 8,
   "metadata": {},
   "outputs": [
    {
     "name": "stdout",
     "output_type": "stream",
     "text": [
      "Total number of Sub-Reddit Posts: 1105\n"
     ]
    },
    {
     "data": {
      "text/html": [
       "<div>\n",
       "<style scoped>\n",
       "    .dataframe tbody tr th:only-of-type {\n",
       "        vertical-align: middle;\n",
       "    }\n",
       "\n",
       "    .dataframe tbody tr th {\n",
       "        vertical-align: top;\n",
       "    }\n",
       "\n",
       "    .dataframe thead th {\n",
       "        text-align: right;\n",
       "    }\n",
       "</style>\n",
       "<table border=\"1\" class=\"dataframe\">\n",
       "  <thead>\n",
       "    <tr style=\"text-align: right;\">\n",
       "      <th></th>\n",
       "      <th>approved_at_utc</th>\n",
       "      <th>subreddit</th>\n",
       "      <th>selftext</th>\n",
       "      <th>author_fullname</th>\n",
       "      <th>saved</th>\n",
       "      <th>mod_reason_title</th>\n",
       "      <th>gilded</th>\n",
       "      <th>clicked</th>\n",
       "      <th>title</th>\n",
       "      <th>link_flair_richtext</th>\n",
       "      <th>...</th>\n",
       "      <th>num_crossposts</th>\n",
       "      <th>media</th>\n",
       "      <th>is_video</th>\n",
       "      <th>crosspost_parent_list</th>\n",
       "      <th>crosspost_parent</th>\n",
       "      <th>media_metadata</th>\n",
       "      <th>author_cakeday</th>\n",
       "      <th>event_start</th>\n",
       "      <th>event_end</th>\n",
       "      <th>event_is_live</th>\n",
       "    </tr>\n",
       "  </thead>\n",
       "  <tbody>\n",
       "    <tr>\n",
       "      <th>0</th>\n",
       "      <td>None</td>\n",
       "      <td>FFXV</td>\n",
       "      <td>###Introductory Questions\\n---\\n\\n* **What is ...</td>\n",
       "      <td>t2_136kt1</td>\n",
       "      <td>False</td>\n",
       "      <td>None</td>\n",
       "      <td>0</td>\n",
       "      <td>False</td>\n",
       "      <td>Frequently Asked Questions</td>\n",
       "      <td>[{'e': 'text', 't': 'INFORMATION'}]</td>\n",
       "      <td>...</td>\n",
       "      <td>0</td>\n",
       "      <td>None</td>\n",
       "      <td>False</td>\n",
       "      <td>None</td>\n",
       "      <td>None</td>\n",
       "      <td>None</td>\n",
       "      <td>None</td>\n",
       "      <td>NaN</td>\n",
       "      <td>NaN</td>\n",
       "      <td>None</td>\n",
       "    </tr>\n",
       "    <tr>\n",
       "      <th>1</th>\n",
       "      <td>None</td>\n",
       "      <td>FFXV</td>\n",
       "      <td></td>\n",
       "      <td>t2_136kt1</td>\n",
       "      <td>False</td>\n",
       "      <td>None</td>\n",
       "      <td>0</td>\n",
       "      <td>False</td>\n",
       "      <td>/r/FFXV Mod Request Form</td>\n",
       "      <td>[{'e': 'text', 't': 'MODERATOR MESSAGE'}]</td>\n",
       "      <td>...</td>\n",
       "      <td>0</td>\n",
       "      <td>None</td>\n",
       "      <td>False</td>\n",
       "      <td>None</td>\n",
       "      <td>None</td>\n",
       "      <td>None</td>\n",
       "      <td>None</td>\n",
       "      <td>NaN</td>\n",
       "      <td>NaN</td>\n",
       "      <td>None</td>\n",
       "    </tr>\n",
       "    <tr>\n",
       "      <th>2</th>\n",
       "      <td>None</td>\n",
       "      <td>FFXV</td>\n",
       "      <td></td>\n",
       "      <td>t2_23z9wifo</td>\n",
       "      <td>False</td>\n",
       "      <td>None</td>\n",
       "      <td>0</td>\n",
       "      <td>False</td>\n",
       "      <td>Just received my handcrafted Ring of the Lucii...</td>\n",
       "      <td>[{'e': 'text', 't': 'FAN CONTENT'}]</td>\n",
       "      <td>...</td>\n",
       "      <td>1</td>\n",
       "      <td>None</td>\n",
       "      <td>False</td>\n",
       "      <td>None</td>\n",
       "      <td>None</td>\n",
       "      <td>None</td>\n",
       "      <td>None</td>\n",
       "      <td>NaN</td>\n",
       "      <td>NaN</td>\n",
       "      <td>None</td>\n",
       "    </tr>\n",
       "    <tr>\n",
       "      <th>3</th>\n",
       "      <td>None</td>\n",
       "      <td>FFXV</td>\n",
       "      <td>I couldn't find an up to date list of all the ...</td>\n",
       "      <td>t2_5jlm789h</td>\n",
       "      <td>False</td>\n",
       "      <td>None</td>\n",
       "      <td>0</td>\n",
       "      <td>False</td>\n",
       "      <td>Complete list of all quests</td>\n",
       "      <td>[{'e': 'text', 't': 'INFORMATION'}]</td>\n",
       "      <td>...</td>\n",
       "      <td>0</td>\n",
       "      <td>None</td>\n",
       "      <td>False</td>\n",
       "      <td>None</td>\n",
       "      <td>None</td>\n",
       "      <td>None</td>\n",
       "      <td>None</td>\n",
       "      <td>NaN</td>\n",
       "      <td>NaN</td>\n",
       "      <td>None</td>\n",
       "    </tr>\n",
       "    <tr>\n",
       "      <th>4</th>\n",
       "      <td>None</td>\n",
       "      <td>FFXV</td>\n",
       "      <td>I have recently come back to playing XV (on PS...</td>\n",
       "      <td>t2_h515ic9</td>\n",
       "      <td>False</td>\n",
       "      <td>None</td>\n",
       "      <td>0</td>\n",
       "      <td>False</td>\n",
       "      <td>Need Help, Think i have a Datalog Bug!!</td>\n",
       "      <td>[{'e': 'text', 't': 'HELP'}]</td>\n",
       "      <td>...</td>\n",
       "      <td>0</td>\n",
       "      <td>None</td>\n",
       "      <td>False</td>\n",
       "      <td>None</td>\n",
       "      <td>None</td>\n",
       "      <td>None</td>\n",
       "      <td>None</td>\n",
       "      <td>NaN</td>\n",
       "      <td>NaN</td>\n",
       "      <td>None</td>\n",
       "    </tr>\n",
       "  </tbody>\n",
       "</table>\n",
       "<p>5 rows × 111 columns</p>\n",
       "</div>"
      ],
      "text/plain": [
       "  approved_at_utc subreddit  \\\n",
       "0            None      FFXV   \n",
       "1            None      FFXV   \n",
       "2            None      FFXV   \n",
       "3            None      FFXV   \n",
       "4            None      FFXV   \n",
       "\n",
       "                                            selftext author_fullname  saved  \\\n",
       "0  ###Introductory Questions\\n---\\n\\n* **What is ...       t2_136kt1  False   \n",
       "1                                                          t2_136kt1  False   \n",
       "2                                                        t2_23z9wifo  False   \n",
       "3  I couldn't find an up to date list of all the ...     t2_5jlm789h  False   \n",
       "4  I have recently come back to playing XV (on PS...      t2_h515ic9  False   \n",
       "\n",
       "  mod_reason_title  gilded  clicked  \\\n",
       "0             None       0    False   \n",
       "1             None       0    False   \n",
       "2             None       0    False   \n",
       "3             None       0    False   \n",
       "4             None       0    False   \n",
       "\n",
       "                                               title  \\\n",
       "0                         Frequently Asked Questions   \n",
       "1                           /r/FFXV Mod Request Form   \n",
       "2  Just received my handcrafted Ring of the Lucii...   \n",
       "3                        Complete list of all quests   \n",
       "4            Need Help, Think i have a Datalog Bug!!   \n",
       "\n",
       "                         link_flair_richtext  ... num_crossposts  media  \\\n",
       "0        [{'e': 'text', 't': 'INFORMATION'}]  ...              0   None   \n",
       "1  [{'e': 'text', 't': 'MODERATOR MESSAGE'}]  ...              0   None   \n",
       "2        [{'e': 'text', 't': 'FAN CONTENT'}]  ...              1   None   \n",
       "3        [{'e': 'text', 't': 'INFORMATION'}]  ...              0   None   \n",
       "4               [{'e': 'text', 't': 'HELP'}]  ...              0   None   \n",
       "\n",
       "   is_video crosspost_parent_list  crosspost_parent  media_metadata  \\\n",
       "0     False                  None              None            None   \n",
       "1     False                  None              None            None   \n",
       "2     False                  None              None            None   \n",
       "3     False                  None              None            None   \n",
       "4     False                  None              None            None   \n",
       "\n",
       "   author_cakeday event_start  event_end event_is_live  \n",
       "0            None         NaN        NaN          None  \n",
       "1            None         NaN        NaN          None  \n",
       "2            None         NaN        NaN          None  \n",
       "3            None         NaN        NaN          None  \n",
       "4            None         NaN        NaN          None  \n",
       "\n",
       "[5 rows x 111 columns]"
      ]
     },
     "execution_count": 8,
     "metadata": {},
     "output_type": "execute_result"
    }
   ],
   "source": [
    "#Checking the gathered posts\n",
    "ffxv = pd.DataFrame(posts)\n",
    "print('Total number of Sub-Reddit Posts:', len(ffxv))\n",
    "ffxv.head()"
   ]
  },
  {
   "cell_type": "code",
   "execution_count": 9,
   "metadata": {},
   "outputs": [
    {
     "name": "stdout",
     "output_type": "stream",
     "text": [
      "Number of Unduplicated Sub-Reddict Posts: 634\n"
     ]
    }
   ],
   "source": [
    "#Drop duplicated posts\n",
    "ffxv.drop_duplicates(subset = 'author_fullname', inplace = True)\n",
    "ffxv.to_csv('./ffxv.csv')\n",
    "print('Number of Unduplicated Sub-Reddict Posts:', len(ffxv))"
   ]
  },
  {
   "cell_type": "code",
   "execution_count": 10,
   "metadata": {},
   "outputs": [
    {
     "data": {
      "text/html": [
       "<div>\n",
       "<style scoped>\n",
       "    .dataframe tbody tr th:only-of-type {\n",
       "        vertical-align: middle;\n",
       "    }\n",
       "\n",
       "    .dataframe tbody tr th {\n",
       "        vertical-align: top;\n",
       "    }\n",
       "\n",
       "    .dataframe thead th {\n",
       "        text-align: right;\n",
       "    }\n",
       "</style>\n",
       "<table border=\"1\" class=\"dataframe\">\n",
       "  <thead>\n",
       "    <tr style=\"text-align: right;\">\n",
       "      <th></th>\n",
       "      <th>title</th>\n",
       "      <th>label</th>\n",
       "    </tr>\n",
       "  </thead>\n",
       "  <tbody>\n",
       "    <tr>\n",
       "      <th>0</th>\n",
       "      <td>Frequently Asked Questions###Introductory Ques...</td>\n",
       "      <td>1</td>\n",
       "    </tr>\n",
       "    <tr>\n",
       "      <th>2</th>\n",
       "      <td>Just received my handcrafted Ring of the Lucii...</td>\n",
       "      <td>1</td>\n",
       "    </tr>\n",
       "    <tr>\n",
       "      <th>3</th>\n",
       "      <td>Complete list of all questsI couldn't find an ...</td>\n",
       "      <td>1</td>\n",
       "    </tr>\n",
       "    <tr>\n",
       "      <th>4</th>\n",
       "      <td>Need Help, Think i have a Datalog Bug!!I have ...</td>\n",
       "      <td>1</td>\n",
       "    </tr>\n",
       "    <tr>\n",
       "      <th>5</th>\n",
       "      <td>Noctis ran up the flaming sword!During a fight...</td>\n",
       "      <td>1</td>\n",
       "    </tr>\n",
       "  </tbody>\n",
       "</table>\n",
       "</div>"
      ],
      "text/plain": [
       "                                               title  label\n",
       "0  Frequently Asked Questions###Introductory Ques...      1\n",
       "2  Just received my handcrafted Ring of the Lucii...      1\n",
       "3  Complete list of all questsI couldn't find an ...      1\n",
       "4  Need Help, Think i have a Datalog Bug!!I have ...      1\n",
       "5  Noctis ran up the flaming sword!During a fight...      1"
      ]
     },
     "execution_count": 10,
     "metadata": {},
     "output_type": "execute_result"
    }
   ],
   "source": [
    "#Data Preparation for Processing\n",
    "ffxv['title'] = ffxv[['title', 'selftext']].astype(str).apply(''.join, 1)  #Consolidating selftext features into title\n",
    "ffxv = ffxv[['title']]  #Keeping title and dropping the rest\n",
    "ffxv['label'] = 1  #Labeling the data with FFXV = 1\n",
    "ffxv.head()"
   ]
  },
  {
   "cell_type": "code",
   "execution_count": 11,
   "metadata": {},
   "outputs": [],
   "source": [
    "#Combining the gathered data for train/test split\n",
    "df = ffviir.append(ffxv)\n",
    "df.to_csv('./df.csv') #Backup the compiled data\n",
    "#df=pd.read_csv('./df.csv')"
   ]
  },
  {
   "cell_type": "code",
   "execution_count": 12,
   "metadata": {
    "scrolled": true
   },
   "outputs": [
    {
     "name": "stdout",
     "output_type": "stream",
     "text": [
      "Shape the Gathered Data: (1142, 2)\n",
      "Number of null values in Gathered Data: title    0\n",
      "label    0\n",
      "dtype: int64\n"
     ]
    }
   ],
   "source": [
    "#Making sure all the data is ready\n",
    "print('Shape the Gathered Data:', df.shape)\n",
    "print('Number of null values in Gathered Data:', df.isnull().sum())"
   ]
  },
  {
   "cell_type": "markdown",
   "metadata": {},
   "source": [
    "## Visualization of Data Gathered\n",
    "---\n",
    "The following plot shows the post counts for both Sub-Reddit as well as total post counts."
   ]
  },
  {
   "cell_type": "code",
   "execution_count": 13,
   "metadata": {},
   "outputs": [
    {
     "data": {
      "text/plain": [
       "([<matplotlib.axis.XTick at 0x181b425ff48>],\n",
       " <a list of 1 Text xticklabel objects>)"
      ]
     },
     "execution_count": 13,
     "metadata": {},
     "output_type": "execute_result"
    },
    {
     "data": {
      "image/png": "[encoded data removed]",
      "text/plain": [
       "<Figure size 720x504 with 1 Axes>"
      ]
     },
     "metadata": {
      "needs_background": "light"
     },
     "output_type": "display_data"
    }
   ],
   "source": [
    "counts = [[ffviir.shape[0], ffxv.shape[0], df.shape[0]]]\n",
    "reddit = pd.DataFrame(counts,columns=['FFVII Remake', 'FFXV', 'Total'])\n",
    "\n",
    "ax = reddit.plot(kind='bar', figsize=(10,7));\n",
    "ax.set_title('Summary of Reddit Post Counts', fontsize=21, y=1.01);\n",
    "ax.set_xlabel('Sub-Reddit', fontsize=16);\n",
    "ax.set_ylabel('Post Counts', fontsize=16);\n",
    "plt.xticks(ticks = [0], labels=[''])"
   ]
  },
  {
   "cell_type": "markdown",
   "metadata": {},
   "source": [
    "## Model Prep: Train/test split\n",
    "---\n",
    "\n",
    "We will holdout a set of data using the `train_test_split` function to split our `title` and `label` variables into a training set and a holdout set."
   ]
  },
  {
   "cell_type": "code",
   "execution_count": 47,
   "metadata": {},
   "outputs": [],
   "source": [
    "# Create train_test_split.\n",
    "X_train, X_test, y_train, y_test = train_test_split(df[['title']],\n",
    "                                                    df['label'],\n",
    "                                                    stratify = df['label'],\n",
    "                                                    random_state = 42)"
   ]
  },
  {
   "cell_type": "markdown",
   "metadata": {},
   "source": [
    "## Model Prep: Text Data Cleaning\n",
    "---\n",
    "\n",
    "The following section cleans the text data for model processing."
   ]
  },
  {
   "cell_type": "code",
   "execution_count": 48,
   "metadata": {},
   "outputs": [],
   "source": [
    "#Function to clean the data\n",
    "def title_to_words(raw_title):\n",
    "    title_text = BeautifulSoup(raw_title).get_text()\n",
    "    letters_only = re.sub(\"[^a-zA-Z]\", \" \", title_text) #extract letters only\n",
    "    words = letters_only.lower().split() #lower case\n",
    "    stops = set(stopwords.words('english')) #stop words\n",
    "    stops.update({'ffvii', 'ffviir','ffxv'})\n",
    "    meaningful_words = [w for w in words if w not in stops]\n",
    "    p_stemmer = PorterStemmer() #stemming the words\n",
    "    meaningful_words = [p_stemmer.stem(i) for i in meaningful_words]  \n",
    "    return(\" \".join(meaningful_words))"
   ]
  },
  {
   "cell_type": "code",
   "execution_count": 49,
   "metadata": {},
   "outputs": [
    {
     "name": "stdout",
     "output_type": "stream",
     "text": [
      "Cleaning and parsing the Sub-Reddict Titles...\n",
      "Title 500 of 1142.\n",
      "Tile 1000 of 1142.\n",
      "1142 of 1142 Sub-Reddict Titles cleaned!\n"
     ]
    }
   ],
   "source": [
    "#Text Data Cleaning\n",
    "total_titles = df.shape[0]\n",
    "clean_train_titles = []\n",
    "clean_test_titles = []\n",
    "j = 0\n",
    "print(\"Cleaning and parsing the Sub-Reddict Titles...\")\n",
    "for train_title in X_train['title']:\n",
    "    # Convert titles to words, then append to clean_train_titles.\n",
    "    clean_train_titles.append(title_to_words(train_title))\n",
    "    \n",
    "    # If the index is divisible by 500, print a message\n",
    "    if (j + 1) % 500 == 0:\n",
    "        print(f'Title {j + 1} of {total_titles}.')\n",
    "    \n",
    "    j += 1\n",
    "\n",
    "# Let's do the same for our testing set.\n",
    "for test_title in X_test['title']:\n",
    "    # Convert title to words, then append to clean_train_titles.\n",
    "    clean_test_titles.append(title_to_words(test_title))\n",
    "    \n",
    "    # If the index is divisible by 500, print a message\n",
    "    if (j + 1) % 500 == 0:\n",
    "        print(f'Tile {j + 1} of {total_titles}.')\n",
    "        \n",
    "    j += 1\n",
    "\n",
    "print(f'{total_titles} of {total_titles} Sub-Reddict Titles cleaned!')\n",
    "pd.DataFrame(clean_train_titles).to_csv('./clean_train_titles.csv')\n",
    "pd.DataFrame(clean_test_titles).to_csv('./clean_test_titles.csv')"
   ]
  },
  {
   "cell_type": "markdown",
   "metadata": {},
   "source": [
    "## Model Prep: Data Optimization\n",
    "---\n",
    "\n",
    "The following section optimizes the data for Naive Bayes model."
   ]
  },
  {
   "cell_type": "code",
   "execution_count": 51,
   "metadata": {},
   "outputs": [
    {
     "data": {
      "text/plain": [
       "{'cvec__max_df': 0.9, 'cvec__max_features': 2500, 'cvec__min_df': 3}"
      ]
     },
     "execution_count": 51,
     "metadata": {},
     "output_type": "execute_result"
    }
   ],
   "source": [
    "#Searching for the most optimized Countvectorizer parameters\n",
    "pipe = Pipeline([\n",
    "    ('cvec', CountVectorizer()),\n",
    "    ('nb', MultinomialNB())\n",
    "])\n",
    "\n",
    "pipe_params = {\n",
    "    'cvec__max_features': [2500, 3000, 3500, 5000],\n",
    "    'cvec__min_df': [2, 3],\n",
    "    'cvec__max_df': [.9, .95]\n",
    "}\n",
    "gs = GridSearchCV(pipe, param_grid = pipe_params, cv=3)\n",
    "gs.fit(clean_train_titles, y_train)\n",
    "gs.best_params_"
   ]
  },
  {
   "cell_type": "code",
   "execution_count": 52,
   "metadata": {
    "scrolled": true
   },
   "outputs": [
    {
     "name": "stdout",
     "output_type": "stream",
     "text": [
      "['aa', 'aaa', 'abandon', 'abil', 'abl', 'absolut', 'absorb', 'ac', 'accent', 'accept', 'access', 'accessori', 'accord', 'account', 'accur', 'ace', 'achiev', 'acquir', 'across', 'act', 'action', 'activ', 'actor', 'actual', 'ad', 'adamantit', 'adamantois', 'add', 'addit', 'address', 'adjust', 'admir', 'admit', 'ador', 'adult', 'advanc', 'advantag', 'advent', 'adventur', 'advertis', 'advic', 'aeri', 'aerith', 'aesthet', 'af', 'affect', 'afraid', 'aftermath', 'afterward', 'ago', 'agre', 'agreement', 'ahead', 'ai', 'aim', 'air', 'airship', 'ala', 'album', 'alley', 'allow', 'almost', 'alon', 'along', 'alot', 'alreadi', 'also', 'alt', 'alter', 'altern', 'alterna', 'although', 'altissia', 'alway', 'amaz', 'amazon', 'ambigu', 'american', 'among', 'amount', 'analysi', 'ancient', 'anger', 'angl', 'angler', 'anim', 'anniversari', 'announc', 'annoy', 'anoth', 'answer', 'anticip', 'anybodi', 'anymor', 'anyon', 'anyth', 'anyway', 'anywher', 'ap', 'apart', 'apocalyps', 'apocalypsi', 'apolog', 'app', 'appar', 'appear', 'appli', 'applic', 'appreci', 'approach', 'appropri', 'april', 'aranea', 'archiv', 'ardyn', 'area', 'arena', 'arm', 'armour', 'around', 'arriv', 'arsen', 'art', 'articl', 'artwork', 'ascens', 'asid', 'ask', 'aspect', 'ass', 'assassin', 'asshol', 'assist', 'assum', 'astral', 'asu', 'atb', 'attach', 'attack', 'attempt', 'attent', 'attir', 'attract', 'audienc', 'audio', 'auto', 'automat', 'avail', 'avalanch', 'aveng', 'averag', 'avoid', 'aw', 'awaken', 'awar', 'award', 'away', 'awesom', 'awhil', 'ba', 'babi', 'back', 'background', 'backstori', 'backward', 'bad', 'ball', 'bangl', 'bank', 'bar', 'bare', 'barret', 'barrett', 'barrier', 'base', 'basic', 'battl', 'battlefield', 'bd', 'beach', 'beam', 'beanmin', 'beast', 'beat', 'beaten', 'beauti', 'becam', 'becom', 'beforehand', 'begin', 'behind', 'believ', 'belov', 'beneath', 'benefit', 'bentley', 'besid', 'best', 'bet', 'better', 'bewar', 'beyond', 'big', 'bigg', 'bigger', 'biggest', 'bill', 'bird', 'bit', 'black', 'blade', 'blame', 'blast', 'bless', 'blind', 'block', 'blow', 'blown', 'blu', 'blue', 'board', 'boat', 'bomb', 'bond', 'bone', 'bonu', 'bonus', 'book', 'boom', 'boost', 'booster', 'boot', 'borderless', 'bore', 'born', 'boss', 'bother', 'bought', 'bout', 'box', 'boy', 'brain', 'brand', 'break', 'breath', 'briefli', 'bring', 'bro', 'broke', 'broken', 'brother', 'brotherhood', 'brought', 'btw', 'buck', 'buddi', 'bug', 'buggi', 'build', 'built', 'bunch', 'bundl', 'burden', 'burst', 'bust', 'buster', 'butteri', 'button', 'buy', 'ca', 'cactuar', 'caelum', 'caem', 'cafe', 'cait', 'calam', 'call', 'calm', 'came', 'camera', 'camp', 'campaign', 'campfir', 'cancel', 'cannot', 'canon', 'cant', 'canva', 'canyon', 'cap', 'capac', 'cape', 'capit', 'caption', 'car', 'card', 'care', 'carniv', 'carri', 'case', 'cash', 'cast', 'catch', 'categori', 'cater', 'caught', 'caus', 'cb', 'cc', 'cd', 'ce', 'celebr', 'cell', 'cent', 'cerberu', 'certain', 'certainli', 'cf', 'cgi', 'ch', 'challeng', 'chanc', 'chang', 'changer', 'channel', 'chapter', 'charact', 'charg', 'charm', 'chase', 'cheap', 'cheapest', 'cheat', 'check', 'child', 'childhood', 'children', 'chocobo', 'chocobro', 'choic', 'choos', 'chose', 'christma', 'church', 'cid', 'cindi', 'cinemat', 'circl', 'citi', 'claim', 'class', 'classic', 'clean', 'clear', 'clearli', 'click', 'climb', 'clip', 'clock', 'clone', 'close', 'closer', 'cloud', 'clueless', 'code', 'coin', 'cold', 'collabor', 'collect', 'collector', 'com', 'combat', 'combin', 'come', 'command', 'comment', 'commentari', 'commerci', 'common', 'commun', 'compani', 'compar', 'comparison', 'compat', 'compet', 'compil', 'complain', 'complaint', 'complet', 'complex', 'compos', 'comput', 'comrad', 'concentr', 'concern', 'conclus', 'condit', 'confirm', 'confront', 'confus', 'connect', 'consid', 'consist', 'consol', 'constant', 'constantli', 'construct', 'consum', 'contact', 'contain', 'contempl', 'content', 'continu', 'control', 'convers', 'convinc', 'cool', 'cooler', 'coolest', 'copi', 'cor', 'core', 'corel', 'corneo', 'corner', 'corpor', 'correct', 'correctli', 'corridor', 'corrupt', 'cosmet', 'cosplay', 'cost', 'costlemark', 'costum', 'could', 'count', 'countdown', 'countless', 'coupl', 'cours', 'cover', 'cpu', 'crap', 'crash', 'crater', 'crazi', 'creat', 'creation', 'creator', 'creatur', 'credit', 'creed', 'creepi', 'crestholm', 'cri', 'crisi', 'critic', 'cross', 'crown', 'crystal', 'cultur', 'cup', 'curios', 'curiou', 'current', 'custom', 'cut', 'cutscen', 'cx', 'cyberpunk', 'cycl', 'dad', 'daemon', 'daili', 'damag', 'damn', 'danc', 'dare', 'dark', 'darker', 'dart', 'data', 'datalog', 'datamin', 'date', 'daurel', 'dave', 'dawn', 'day', 'db', 'dc', 'ddr', 'ddu', 'de', 'dead', 'deal', 'death', 'debat', 'debit', 'decad', 'decemb', 'decent', 'decid', 'decis', 'dedic', 'deep', 'deeper', 'default', 'defeat', 'definit', 'delay', 'delet', 'delight', 'deliv', 'deliveri', 'delux', 'demand', 'demo', 'demon', 'deni', 'depend', 'deplet', 'depress', 'depth', 'descript', 'desert', 'design', 'desir', 'desktop', 'desper', 'despit', 'destroy', 'detail', 'dev', 'devast', 'develop', 'devil', 'df', 'di', 'dialog', 'dialogu', 'didnt', 'die', 'differ', 'difficulti', 'digit', 'diner', 'direct', 'directli', 'director', 'disabl', 'disappear', 'disappoint', 'disc', 'discord', 'discov', 'discuss', 'disk', 'display', 'dissidia', 'distanc', 'distant', 'divid', 'divin', 'divis', 'dlc', 'doabl', 'dodg', 'doesnt', 'dog', 'dollar', 'done', 'dont', 'doubl', 'doubt', 'downgrad', 'download', 'downvot', 'dr', 'drain', 'drama', 'draw', 'dress', 'drew', 'drillbreak', 'drink', 'drive', 'driver', 'drop', 'drove', 'ds', 'dude', 'due', 'dumb', 'dump', 'dungeon', 'dunno', 'dusca', 'dust', 'dynam', 'ea', 'eager', 'earli', 'earlier', 'earliest', 'earn', 'easi', 'easier', 'easiest', 'easili', 'east', 'easter', 'eat', 'eb', 'ec', 'ed', 'edg', 'edit', 'editioni', 'effect', 'effici', 'effort', 'egg', 'either', 'eleg', 'element', 'elev', 'els', 'elsewher', 'em', 'email', 'emerald', 'emerg', 'emot', 'empir', 'empti', 'en', 'enabl', 'encount', 'encourag', 'end', 'endgam', 'endur', 'enemi', 'energi', 'engag', 'engin', 'english', 'engross', 'enhanc', 'enix', 'enjoy', 'enough', 'enter', 'entertain', 'entir', 'entri', 'eo', 'ep', 'epic', 'episod', 'equal', 'equip', 'era', 'error', 'escap', 'especi', 'essenti', 'establish', 'estim', 'et', 'etc', 'eu', 'even', 'event', 'eventu', 'ever', 'everi', 'everybodi', 'everyon', 'everyth', 'everytim', 'everywher', 'evil', 'evo', 'ex', 'exactli', 'exampl', 'excel', 'except', 'excit', 'exclus', 'excus', 'execut', 'exineri', 'exist', 'expand', 'expans', 'expect', 'expens', 'experi', 'experienc', 'explain', 'explan', 'explanatori', 'explor', 'explos', 'exposur', 'express', 'extend', 'extra', 'extrem', 'eye', 'fa', 'face', 'facebook', 'fact', 'factor', 'fade', 'fail', 'fair', 'fairli', 'faith', 'fake', 'fall', 'fallen', 'famili', 'familiar', 'famitsu', 'famou', 'fan', 'fanart', 'fanci', 'fangirl', 'fantasi', 'fantast', 'fantastica', 'faq', 'far', 'farm', 'fashion', 'fast', 'faster', 'fate', 'father', 'fault', 'favorit', 'favourit', 'fb', 'fear', 'featur', 'feb', 'februari', 'feel', 'fellow', 'felt', 'festa', 'festiv', 'ff', 'ffx', 'ffxii', 'ffxiii', 'ffxiv', 'fight', 'figur', 'file', 'fill', 'film', 'final', 'find', 'fine', 'finess', 'finish', 'fire', 'first', 'fish', 'fist', 'fit', 'five', 'fix', 'flame', 'flashback', 'flesh', 'fli', 'flip', 'float', 'floor', 'flow', 'flower', 'focu', 'focus', 'foe', 'folder', 'folk', 'follow', 'food', 'fool', 'foot', 'footag', 'forc', 'forese', 'forest', 'forev', 'forget', 'forgiv', 'forgot', 'forgotten', 'form', 'format', 'formouth', 'forum', 'forward', 'forza', 'found', 'four', 'fourth', 'fp', 'frame', 'framer', 'franchis', 'frankli', 'freak', 'free', 'freez', 'frequent', 'fresh', 'friday', 'friend', 'friendli', 'friendship', 'frog', 'front', 'frustrat', 'fuck', 'fuel', 'full', 'fullest', 'fulli', 'fullscreen', 'fun', 'function', 'fund', 'funni', 'furi', 'furthermor', 'futur', 'fyi', 'ga', 'gain', 'galdin', 'galleri', 'game', 'gamei', 'gameplay', 'gamer', 'gamespot', 'gamestop', 'gang', 'garrison', 'garuda', 'gate', 'gather', 'gave', 'gb', 'gear', 'geforc', 'gematsu', 'gen', 'gener', 'gentiana', 'genuin', 'get', 'ghost', 'ghz', 'giant', 'gift', 'gigabyt', 'gil', 'gilgamesh', 'girl', 'give', 'given', 'glad', 'gladio', 'gladiolu', 'gladli', 'glaiv', 'glitch', 'go', 'goal', 'god', 'goddess', 'goe', 'gold', 'golden', 'gone', 'gonna', 'good', 'googl', 'got', 'gotta', 'gotten', 'gourmand', 'gpu', 'grab', 'graphic', 'great', 'greater', 'greatest', 'greatli', 'green', 'grey', 'grind', 'gripe', 'ground', 'group', 'grow', 'gtx', 'guarante', 'guard', 'guess', 'guest', 'guid', 'gun', 'guy', 'ha', 'haha', 'hair', 'half', 'halfway', 'hammerhead', 'hand', 'handgun', 'handl', 'happen', 'happi', 'hard', 'hardcor', 'harder', 'hardwar', 'hate', 'hd', 'head', 'headquart', 'heal', 'healer', 'health', 'hear', 'heard', 'heart', 'heaven', 'heavi', 'heavili', 'heck', 'held', 'hell', 'hello', 'help', 'herd', 'hero', 'hexatheon', 'hey', 'hi', 'hidden', 'high', 'higher', 'highest', 'highli', 'highlight', 'highwind', 'hilari', 'hint', 'histori', 'hit', 'hmm', 'hmmm', 'hojo', 'hold', 'holi', 'holiday', 'home', 'honest', 'honesti', 'honestli', 'hood', 'hook', 'hope', 'horribl', 'hot', 'hour', 'hous', 'hover', 'howdi', 'howev', 'howl', 'hp', 'hq', 'hr', 'http', 'hud', 'huge', 'human', 'hundr', 'hunt', 'hunter', 'hurt', 'hype', 'hz', 'iam', 'icon', 'id', 'idea', 'ideal', 'idiot', 'idk', 'ifrit', 'iggi', 'igni', 'ignor', 'ii', 'iii', 'ill', 'im', 'imag', 'imagin', 'imgur', 'immers', 'imo', 'imperi', 'implement', 'import', 'importantli', 'imposs', 'impress', 'improv', 'includ', 'incomplet', 'increas', 'incred', 'inde', 'independ', 'indic', 'individu', 'industri', 'infect', 'infiltr', 'influenc', 'info', 'inform', 'ini', 'initi', 'injuri', 'input', 'insert', 'insid', 'insight', 'insomnia', 'inspir', 'instagram', 'instal', 'instanc', 'instantli', 'instead', 'intel', 'intend', 'intent', 'interact', 'interest', 'internet', 'interpret', 'interview', 'intro', 'introduc', 'introduct', 'invinc', 'involv', 'iri', 'ish', 'isnt', 'issu', 'item', 'ive', 'ix', 'izunia', 'jacket', 'jan', 'januari', 'japan', 'japanes', 'jenova', 'jessi', 'john', 'join', 'joke', 'journey', 'joy', 'jp', 'jpg', 'jrpg', 'ju', 'judg', 'jump', 'junon', 'justifi', 'kalm', 'keep', 'kenni', 'kept', 'key', 'keyboard', 'keycard', 'kh', 'kicker', 'kid', 'kill', 'kind', 'kinda', 'king', 'kingdom', 'kingsglaiv', 'kitas', 'knee', 'knew', 'knock', 'know', 'knowledg', 'known', 'kojima', 'laboratori', 'lack', 'ladi', 'lag', 'lake', 'lanc', 'land', 'landscap', 'languag', 'lanyard', 'laptop', 'larg', 'larger', 'last', 'late', 'later', 'latest', 'laugh', 'launch', 'lazi', 'lead', 'leader', 'leak', 'learn', 'least', 'leav', 'led', 'left', 'leg', 'legaci', 'legend', 'legitim', 'length', 'less', 'lesser', 'lestallum', 'let', 'level', 'leviathan', 'licens', 'lie', 'life', 'lifestream', 'lift', 'light', 'lightn', 'like', 'limit', 'line', 'linear', 'link', 'list', 'listen', 'liter', 'littl', 'live', 'lmao', 'load', 'local', 'locat', 'lock', 'log', 'logic', 'logo', 'lol', 'london', 'long', 'longer', 'longest', 'longwyth', 'look', 'lore', 'lose', 'loss', 'lost', 'lot', 'love', 'low', 'lower', 'lowest', 'luci', 'luck', 'luna', 'lurker', 'lvl', 'machin', 'mad', 'made', 'mage', 'magic', 'magitek', 'main', 'mainli', 'major', 'make', 'mako', 'man', 'manag', 'mani', 'manual', 'map', 'march', 'mark', 'marker', 'market', 'marlen', 'mart', 'masamun', 'massiv', 'master', 'match', 'materi', 'materia', 'matter', 'max', 'maximum', 'may', 'mayb', 'mean', 'meant', 'meat', 'mechan', 'media', 'mediocr', 'medium', 'meet', 'mega', 'member', 'meme', 'memori', 'menac', 'mention', 'menu', 'mercenari', 'mere', 'mess', 'messag', 'metal', 'method', 'mhz', 'microsoft', 'middl', 'midgar', 'might', 'mild', 'mile', 'million', 'mind', 'mine', 'mini', 'minigam', 'minimum', 'minor', 'minut', 'miss', 'mission', 'mistak', 'mix', 'mo', 'mob', 'mobil', 'mobo', 'mod', 'mode', 'model', 'modern', 'mog', 'moment', 'money', 'monitor', 'monster', 'monstros', 'month', 'moogl', 'moral', 'morn', 'mostli', 'motel', 'mother', 'motion', 'mountain', 'move', 'movi', 'mp', 'much', 'multi', 'multipl', 'multiplay', 'music', 'must', 'mysteri', 'naglfar', 'name', 'narr', 'natur', 'navig', 'nd', 'near', 'nearbi', 'nearli', 'neat', 'necessari', 'necessarili', 'need', 'neg', 'net', 'never', 'new', 'newcom', 'newer', 'newli', 'news', 'next', 'ng', 'nice', 'night', 'nightmar', 'nobodi', 'noct', 'nocti', 'nod', 'nomura', 'non', 'none', 'noodl', 'normal', 'north', 'nostalg', 'nostalgia', 'note', 'noth', 'notic', 'novemb', 'nowher', 'npc', 'nt', 'number', 'nutshel', 'nvidia', 'nvme', 'nyx', 'observ', 'obsess', 'obtain', 'obviou', 'obvious', 'oc', 'occur', 'odd', 'odyssey', 'ofc', 'offer', 'offici', 'offlin', 'often', 'og', 'oh', 'okay', 'old', 'older', 'omega', 'omen', 'omnislash', 'one', 'onlin', 'onto', 'oob', 'op', 'open', 'oper', 'opinion', 'oppon', 'opportun', 'oppos', 'opt', 'optimist', 'option', 'oracl', 'orchestra', 'order', 'orderi', 'org', 'organ', 'origin', 'ost', 'other', 'otherwis', 'outdat', 'outfit', 'outpost', 'outsid', 'overal', 'overlap', 'overworld', 'own', 'owner', 'pace', 'pack', 'packag', 'page', 'pagefil', 'paid', 'pain', 'paint', 'pair', 'paranoid', 'park', 'parri', 'part', 'parti', 'partner', 'pass', 'passion', 'past', 'patch', 'patienc', 'patient', 'paus', 'pay', 'payment', 'pc', 'peac', 'pen', 'penalti', 'peopl', 'perfect', 'perform', 'perhap', 'perman', 'persist', 'person', 'perspect', 'petit', 'phase', 'phone', 'photo', 'photographi', 'physic', 'piano', 'pic', 'pick', 'pictur', 'piec', 'pilgrimag', 'pin', 'pitioss', 'pitoss', 'pjpg', 'pl', 'place', 'plain', 'plan', 'planet', 'plate', 'platform', 'platinum', 'play', 'playabl', 'player', 'playstat', 'playthrough', 'playthroughi', 'pleas', 'plenti', 'plot', 'plu', 'pm', 'png', 'pocket', 'podcast', 'point', 'poison', 'poll', 'poor', 'poorli', 'pop', 'port', 'portion', 'pose', 'posit', 'possibl', 'post', 'postal', 'poster', 'potenti', 'potion', 'power', 'practic', 'prais', 'pre', 'predict', 'prefer', 'prelud', 'preoder', 'preorder', 'prep', 'prepar', 'prequel', 'present', 'preset', 'presid', 'press', 'pressur', 'presum', 'pretti', 'prevent', 'preview', 'previou', 'previous', 'price', 'princ', 'princess', 'print', 'pro', 'probabl', 'problem', 'proceed', 'process', 'procur', 'produc', 'product', 'program', 'progress', 'project', 'prologu', 'promis', 'promot', 'prompt', 'prompto', 'prop', 'protect', 'provid', 'ps', 'psa', 'psn', 'psu', 'pull', 'purchas', 'pure', 'purist', 'purpos', 'pursu', 'push', 'put', 'puzzl', 'qualiti', 'quay', 'queen', 'quest', 'question', 'questlin', 'questsi', 'quick', 'quickli', 'quit', 'radio', 'rail', 'rais', 'ram', 'ran', 'ranch', 'random', 'randomli', 'rang', 'rank', 'rant', 'rare', 'rate', 'rather', 'ravatogh', 'ravu', 'ray', 'rd', 'reach', 'reaction', 'reactor', 'read', 'readi', 'real', 'realis', 'realist', 'realiti', 'realiz', 'realli', 'reason', 'recal', 'receiv', 'recent', 'reciev', 'recip', 'reckon', 'reclaim', 'recommend', 'record', 'recov', 'recreat', 'recruit', 'red', 'redd', 'reddit', 'redeem', 'reduc', 'refer', 'reflect', 'refresh', 'refund', 'refus', 'regalia', 'regard', 'regardless', 'regi', 'region', 'regret', 'regular', 'regularli', 'reinstal', 'rel', 'relat', 'relationship', 'releas', 'relev', 'reliabl', 'reliv', 'reload', 'remad', 'remain', 'remak', 'remast', 'rememb', 'remind', 'remov', 'render', 'rendit', 'reno', 'repeat', 'repetit', 'replac', 'replay', 'repli', 'replica', 'report', 'request', 'requir', 'rescu', 'reserv', 'reset', 'reshad', 'resolut', 'resolv', 'reson', 'respect', 'respond', 'respons', 'rest', 'restart', 'restaur', 'retain', 'return', 'reunion', 'reveal', 'review', 'revisit', 'reward', 'ribbon', 'ride', 'ridicul', 'rig', 'right', 'ring', 'rip', 'risk', 'road', 'roadsid', 'robot', 'rock', 'rocket', 'role', 'roman', 'room', 'rotat', 'roughli', 'round', 'royal', 'rpg', 'rtx', 'rude', 'rufu', 'ruin', 'rumor', 'run', 'rush', 'ryzen', 'sacrific', 'sad', 'sadli', 'safe', 'said', 'sail', 'sake', 'sale', 'san', 'satisfi', 'saucer', 'save', 'saw', 'say', 'scale', 'scare', 'scenario', 'scene', 'schedul', 'scope', 'score', 'scorpion', 'scrap', 'scratch', 'scream', 'screen', 'screenshot', 'screw', 'script', 'se', 'seamlessli', 'search', 'season', 'seat', 'second', 'secondari', 'secret', 'section', 'sector', 'secur', 'see', 'seem', 'seemingli', 'seen', 'segment', 'select', 'self', 'sell', 'semi', 'send', 'sens', 'sent', 'sentinel', 'separ', 'sephiroth', 'septemb', 'sequel', 'sequenc', 'seri', 'seriou', 'serious', 'serv', 'server', 'servic', 'session', 'set', 'sever', 'sewer', 'shadow', 'share', 'shelv', 'shield', 'shine', 'shini', 'shinra', 'ship', 'shit', 'shiva', 'shock', 'shoot', 'shop', 'short', 'shortli', 'shot', 'show', 'showcas', 'shown', 'sick', 'side', 'sidequest', 'sign', 'signific', 'significantli', 'silenc', 'silli', 'similar', 'similarli', 'simpl', 'simpli', 'sinc', 'sing', 'singl', 'sit', 'site', 'sith', 'situat', 'size', 'skill', 'skip', 'sky', 'skytre', 'slay', 'sleep', 'slight', 'slim', 'slot', 'slow', 'slowli', 'slum', 'smack', 'small', 'smooth', 'smth', 'snake', 'snapshot', 'snippet', 'snow', 'softwar', 'sold', 'soldier', 'solid', 'solo', 'solut', 'solv', 'somebodi', 'somehow', 'someon', 'someth', 'sometim', 'somewhat', 'somewher', 'somnu', 'son', 'song', 'soni', 'soon', 'sooner', 'sorri', 'sort', 'soul', 'sound', 'soundtrack', 'sourc', 'space', 'spam', 'spawn', 'speak', 'spec', 'speci', 'special', 'specif', 'specifi', 'speed', 'spell', 'spend', 'spent', 'spin', 'spirit', 'spite', 'split', 'spoil', 'spoiler', 'spoken', 'spooki', 'spot', 'spread', 'squar', 'squat', 'ssd', 'st', 'stabl', 'stadia', 'staff', 'stage', 'stand', 'standalon', 'standard', 'star', 'start', 'stat', 'state', 'statement', 'station', 'statu', 'stay', 'steal', 'steam', 'steel', 'steelbook', 'stick', 'still', 'stink', 'stock', 'stoke', 'stolen', 'stone', 'stood', 'stop', 'store', 'stori', 'storylin', 'strand', 'strang', 'strategi', 'stream', 'strength', 'stress', 'stretch', 'strife', 'strike', 'string', 'strong', 'stronger', 'structur', 'struggl', 'stuck', 'studio', 'stuff', 'stumbl', 'stupid', 'stutter', 'style', 'sub', 'subreddit', 'subsequ', 'subtitl', 'subtl', 'success', 'suck', 'suddenli', 'suffer', 'suggest', 'suit', 'summer', 'summon', 'super', 'superboss', 'support', 'suppos', 'supposedli', 'sure', 'surpris', 'surround', 'surviv', 'swamp', 'swap', 'swear', 'sweet', 'switch', 'sword', 'sync', 'system', 'tackl', 'tactic', 'taipei', 'take', 'taken', 'takka', 'tale', 'talk', 'target', 'tast', 'tb', 'tbh', 'team', 'teaser', 'tech', 'technic', 'techniqu', 'teleport', 'tell', 'ten', 'tend', 'tenebra', 'term', 'terra', 'terribl', 'terrifi', 'test', 'text', 'textur', 'tg', 'th', 'thank', 'that', 'theme', 'theori', 'thing', 'think', 'third', 'tho', 'though', 'thought', 'thread', 'threat', 'three', 'threw', 'throne', 'throughout', 'throw', 'thunder', 'thx', 'ti', 'ticket', 'tie', 'tifa', 'till', 'time', 'timelin', 'tip', 'tipster', 'tire', 'titl', 'tldr', 'today', 'togeth', 'tokyo', 'told', 'tomorrow', 'ton', 'tonight', 'took', 'top', 'topic', 'total', 'touch', 'toward', 'tower', 'town', 'track', 'trade', 'tradit', 'tragedi', 'trailer', 'train', 'traitor', 'tram', 'transfer', 'transform', 'translat', 'trap', 'travel', 'travers', 'treasur', 'treatment', 'tree', 'trend', 'tri', 'trial', 'trick', 'trigger', 'tripl', 'triumphant', 'trophi', 'troubl', 'truck', 'true', 'truli', 'trust', 'tuesday', 'tune', 'turk', 'turn', 'tutori', 'tv', 'twice', 'twitter', 'two', 'type', 'typic', 'uh', 'ui', 'uk', 'ulric', 'ultim', 'ultima', 'ultra', 'umbra', 'unabl', 'unchart', 'underlevel', 'understand', 'understood', 'unfinish', 'unfortun', 'uninstal', 'uniqu', 'unit', 'univers', 'unknown', 'unleash', 'unless', 'unlik', 'unlock', 'unlucki', 'unnecessari', 'unplay', 'unsur', 'up', 'upcom', 'updat', 'upgrad', 'upload', 'upon', 'upper', 'us', 'usb', 'use', 'useless', 'user', 'usual', 'util', 'va', 'valid', 'vals', 'vanilla', 'variat', 'varieti', 'variou', 'vast', 'vehicl', 'vein', 'verifi', 'vers', 'version', 'versu', 'vessel', 'vga', 'vi', 'via', 'vid', 'video', 'view', 'vii', 'villag', 'vinyl', 'vision', 'visit', 'visual', 'voic', 'volcano', 'vortex', 'vram', 'vs', 'vulner', 'waifu', 'wait', 'walk', 'walkthrough', 'wall', 'wallpap', 'wander', 'wanna', 'want', 'war', 'wari', 'warn', 'warp', 'warrant', 'wasnt', 'wast', 'wasteland', 'watch', 'water', 'wave', 'way', 'weak', 'weapon', 'wear', 'weari', 'weav', 'web', 'webp', 'websit', 'wedg', 'week', 'weekend', 'weird', 'welcom', 'well', 'went', 'west', 'western', 'wetland', 'what', 'whatev', 'whatsoev', 'wheel', 'whenev', 'whether', 'whistl', 'white', 'whole', 'whose', 'wich', 'width', 'wiki', 'wild', 'will', 'win', 'window', 'winter', 'wipe', 'wise', 'wish', 'within', 'without', 'woman', 'wonder', 'wont', 'word', 'work', 'world', 'worri', 'wors', 'worst', 'worth', 'would', 'wouldnt', 'wrap', 'wreck', 'write', 'written', 'wrong', 'wrote', 'wutai', 'www', 'xbox', 'xd', 'xi', 'xii', 'xiii', 'xp', 'xt', 'xv', 'ya', 'ye', 'yeah', 'year', 'yellow', 'yesterday', 'yet', 'yoshinori', 'young', 'youtu', 'youtub', 'yuffi', 'zegnautu', 'zelda', 'zero', 'zone']\n"
     ]
    }
   ],
   "source": [
    "# Instantiate the \"CountVectorizer\" object with the best parameters for NB model\n",
    "cvec = CountVectorizer(max_df = 0.9,\n",
    "                       max_features = 2500,\n",
    "                       min_df = 2,\n",
    "                       ngram_range = (1, 1))\n",
    "\n",
    "#Applying CountVectorizer onto both train and test data\n",
    "X_train_cvec = pd.DataFrame(cvec.fit_transform(clean_train_titles).todense(),\n",
    "                          columns = cvec.get_feature_names())\n",
    "X_test_cvec = pd.DataFrame(cvec.transform(clean_test_titles).todense(),\n",
    "                         columns = cvec.get_feature_names())\n",
    "vocab = cvec.get_feature_names()\n",
    "print(vocab)"
   ]
  },
  {
   "cell_type": "markdown",
   "metadata": {},
   "source": [
    "## Model #1 Fitting and Evaluation\n",
    "---\n",
    "\n",
    "The following section fits the `Naive Bayes` model on the training data and evaluates the model performance on test data."
   ]
  },
  {
   "cell_type": "code",
   "execution_count": 53,
   "metadata": {},
   "outputs": [
    {
     "name": "stdout",
     "output_type": "stream",
     "text": [
      "Naive Bayes Training Score:  0.9450934579439252\n",
      "Naive Bayes Test Score:  0.8951048951048951\n"
     ]
    }
   ],
   "source": [
    "#Model Initialization and Fitting\n",
    "nb = MultinomialNB()\n",
    "model = nb.fit(X_train_cvec, y_train)\n",
    "print('Naive Bayes Training Score: ', model.score(X_train_cvec, y_train))\n",
    "print('Naive Bayes Test Score: ', model.score(X_test_cvec, y_test))"
   ]
  },
  {
   "cell_type": "code",
   "execution_count": 54,
   "metadata": {
    "scrolled": true
   },
   "outputs": [
    {
     "name": "stdout",
     "output_type": "stream",
     "text": [
      "Number of Tests: 286\n"
     ]
    },
    {
     "data": {
      "text/html": [
       "<div>\n",
       "<style scoped>\n",
       "    .dataframe tbody tr th:only-of-type {\n",
       "        vertical-align: middle;\n",
       "    }\n",
       "\n",
       "    .dataframe tbody tr th {\n",
       "        vertical-align: top;\n",
       "    }\n",
       "\n",
       "    .dataframe thead th {\n",
       "        text-align: right;\n",
       "    }\n",
       "</style>\n",
       "<table border=\"1\" class=\"dataframe\">\n",
       "  <thead>\n",
       "    <tr style=\"text-align: right;\">\n",
       "      <th></th>\n",
       "      <th>Pred FFVII Remake</th>\n",
       "      <th>Pred FFXV</th>\n",
       "    </tr>\n",
       "  </thead>\n",
       "  <tbody>\n",
       "    <tr>\n",
       "      <th>Actual FFVII Remake</th>\n",
       "      <td>114</td>\n",
       "      <td>13</td>\n",
       "    </tr>\n",
       "    <tr>\n",
       "      <th>Actual FFXV</th>\n",
       "      <td>17</td>\n",
       "      <td>142</td>\n",
       "    </tr>\n",
       "  </tbody>\n",
       "</table>\n",
       "</div>"
      ],
      "text/plain": [
       "                     Pred FFVII Remake  Pred FFXV\n",
       "Actual FFVII Remake                114         13\n",
       "Actual FFXV                         17        142"
      ]
     },
     "execution_count": 54,
     "metadata": {},
     "output_type": "execute_result"
    }
   ],
   "source": [
    "pred = model.predict(X_test_cvec)\n",
    "cm = confusion_matrix(y_test, pred)\n",
    "cm_df = pd.DataFrame(cm, columns=['Pred FFVII Remake', 'Pred FFXV'], index=['Actual FFVII Remake', 'Actual FFXV'])\n",
    "print('Number of Tests:', y_test.shape[0])\n",
    "cm_df"
   ]
  },
  {
   "cell_type": "code",
   "execution_count": 39,
   "metadata": {},
   "outputs": [
    {
     "data": {
      "text/plain": [
       "1    0.555166\n",
       "0    0.444834\n",
       "Name: label, dtype: float64"
      ]
     },
     "execution_count": 39,
     "metadata": {},
     "output_type": "execute_result"
    }
   ],
   "source": [
    "df['label'].value_counts(normalize=True)"
   ]
  },
  {
   "cell_type": "markdown",
   "metadata": {},
   "source": [
    "The Naive Bayes has a test score of 0.895, and performed better than the baseline accurarcy score of 0.55."
   ]
  },
  {
   "cell_type": "code",
   "execution_count": 55,
   "metadata": {},
   "outputs": [],
   "source": [
    "#prob for positive class\n",
    "pos_class_prob_sorted = nb.feature_log_prob_[0, :].argsort()\n",
    "#prob for negative class\n",
    "neg_class_prob_sorted = nb.feature_log_prob_[1, :].argsort()\n",
    "\n",
    "#getting the top features \n",
    "ffviir_top_features = np.take(cvec.get_feature_names(), neg_class_prob_sorted)\n",
    "ffxv_top_features = np.take(cvec.get_feature_names(), pos_class_prob_sorted)"
   ]
  },
  {
   "cell_type": "code",
   "execution_count": 68,
   "metadata": {},
   "outputs": [
    {
     "data": {
      "text/plain": [
       "array(['larg', 'hardcor', 'headquart', 'heavili', 'highwind', 'hilari',\n",
       "       'hint', 'guard', 'histori', 'hmmm', 'hojo', 'hous', 'impress',\n",
       "       'independ', 'indic', 'hmm', 'gold', 'girl', 'ghost', 'forese',\n",
       "       'forest', 'forgiv', 'forgotten', 'fourth', 'function', 'fund',\n",
       "       'furthermor', 'galleri', 'gamer', 'gamespot'], dtype='<U13')"
      ]
     },
     "execution_count": 68,
     "metadata": {},
     "output_type": "execute_result"
    }
   ],
   "source": [
    "#FFVII Remake top features\n",
    "ffviir_top_features[:30]"
   ]
  },
  {
   "cell_type": "code",
   "execution_count": 67,
   "metadata": {
    "scrolled": false
   },
   "outputs": [
    {
     "data": {
      "text/plain": [
       "array(['underlevel', 'triumphant', 'iii', 'cold', 'ill', 'scenario',\n",
       "       'clueless', 'troubl', 'imperi', 'incomplet', 'sail', 'inde',\n",
       "       'individu', 'infect', 'tutori', 'infiltr', 'ryzen', 'cindi', 'ini',\n",
       "       'injuri', 'rush', 'insert', 'insomnia', 'chocobro', 'instantli',\n",
       "       'intel', 'ulric', 'cheat', 'igni', 'rtx'], dtype='<U13')"
      ]
     },
     "execution_count": 67,
     "metadata": {},
     "output_type": "execute_result"
    }
   ],
   "source": [
    "#FFXV top features\n",
    "ffxv_top_features[:30]"
   ]
  },
  {
   "cell_type": "markdown",
   "metadata": {},
   "source": [
    "## Model #2 Fitting and Evaluation\n",
    "---\n",
    "\n",
    "The following section uses a `Logistic Regression` models, and the model's performance will be evaluated against `Naive Bayes`."
   ]
  },
  {
   "cell_type": "code",
   "execution_count": 58,
   "metadata": {},
   "outputs": [
    {
     "name": "stdout",
     "output_type": "stream",
     "text": [
      "Logistic Regression Training Score:  0.9906542056074766\n",
      "Logistic Regression Test Score:  0.8811188811188811\n"
     ]
    },
    {
     "name": "stderr",
     "output_type": "stream",
     "text": [
      "C:\\Users\\JK\\Anaconda3\\lib\\site-packages\\sklearn\\linear_model\\logistic.py:432: FutureWarning: Default solver will be changed to 'lbfgs' in 0.22. Specify a solver to silence this warning.\n",
      "  FutureWarning)\n"
     ]
    }
   ],
   "source": [
    "#Model Initialization and Fitting\n",
    "lr = LogisticRegression()\n",
    "model = lr.fit(X_train_cvec, y_train)\n",
    "print('Logistic Regression Training Score: ', model.score(X_train_cvec, y_train))\n",
    "print('Logistic Regression Test Score: ', model.score(X_test_cvec, y_test))"
   ]
  },
  {
   "cell_type": "code",
   "execution_count": 59,
   "metadata": {
    "scrolled": true
   },
   "outputs": [
    {
     "name": "stdout",
     "output_type": "stream",
     "text": [
      "Number of Tests: 286\n"
     ]
    },
    {
     "data": {
      "text/html": [
       "<div>\n",
       "<style scoped>\n",
       "    .dataframe tbody tr th:only-of-type {\n",
       "        vertical-align: middle;\n",
       "    }\n",
       "\n",
       "    .dataframe tbody tr th {\n",
       "        vertical-align: top;\n",
       "    }\n",
       "\n",
       "    .dataframe thead th {\n",
       "        text-align: right;\n",
       "    }\n",
       "</style>\n",
       "<table border=\"1\" class=\"dataframe\">\n",
       "  <thead>\n",
       "    <tr style=\"text-align: right;\">\n",
       "      <th></th>\n",
       "      <th>Pred FFVII Remake</th>\n",
       "      <th>Pred FFXV</th>\n",
       "    </tr>\n",
       "  </thead>\n",
       "  <tbody>\n",
       "    <tr>\n",
       "      <th>Actual FFVII Remake</th>\n",
       "      <td>102</td>\n",
       "      <td>25</td>\n",
       "    </tr>\n",
       "    <tr>\n",
       "      <th>Actual FFXV</th>\n",
       "      <td>9</td>\n",
       "      <td>150</td>\n",
       "    </tr>\n",
       "  </tbody>\n",
       "</table>\n",
       "</div>"
      ],
      "text/plain": [
       "                     Pred FFVII Remake  Pred FFXV\n",
       "Actual FFVII Remake                102         25\n",
       "Actual FFXV                          9        150"
      ]
     },
     "execution_count": 59,
     "metadata": {},
     "output_type": "execute_result"
    }
   ],
   "source": [
    "#Model Evaluation\n",
    "pred = model.predict(X_test_cvec)\n",
    "cm = confusion_matrix(y_test, pred)\n",
    "cm_df = pd.DataFrame(cm, columns=['Pred FFVII Remake', 'Pred FFXV'], index=['Actual FFVII Remake', 'Actual FFXV'])\n",
    "print('Number of Tests:', y_test.shape[0])\n",
    "cm_df"
   ]
  },
  {
   "cell_type": "markdown",
   "metadata": {},
   "source": [
    "In general, Logistic Regression's test score is comparable with Naive Bayes. However, it seems to perform better in False Negative results. Let's combine it with Naive Bayes and see if the performance is better."
   ]
  },
  {
   "cell_type": "markdown",
   "metadata": {},
   "source": [
    "## Model #3 Fitting and Evaluation\n",
    "---\n",
    "\n",
    "The following section uses a `Voting Classifier` model which incorporates the `Naive Bayes` and `Logistic Regression` models, and the model's performance will be evaluated."
   ]
  },
  {
   "cell_type": "code",
   "execution_count": 60,
   "metadata": {},
   "outputs": [
    {
     "data": {
      "text/plain": [
       "{'lr__C': 0.5}"
      ]
     },
     "execution_count": 60,
     "metadata": {},
     "output_type": "execute_result"
    }
   ],
   "source": [
    "#Model Initialization and Fitting\n",
    "vote = VotingClassifier([\n",
    "    ('lr', LogisticRegression(solver = 'lbfgs')),\n",
    "    ('nb', MultinomialNB()),\n",
    "])\n",
    "vote_params = {'lr__C': [0.5, 1, 10, 50, 100]}\n",
    "gs = GridSearchCV(vote, param_grid = vote_params, cv = 3)\n",
    "gs.fit(X_train_cvec, y_train)\n",
    "gs.best_params_"
   ]
  },
  {
   "cell_type": "code",
   "execution_count": 61,
   "metadata": {},
   "outputs": [
    {
     "name": "stdout",
     "output_type": "stream",
     "text": [
      "0.9544392523364486\n",
      "0.8881118881118881\n"
     ]
    },
    {
     "name": "stderr",
     "output_type": "stream",
     "text": [
      "C:\\Users\\JK\\Anaconda3\\lib\\site-packages\\sklearn\\linear_model\\logistic.py:432: FutureWarning: Default solver will be changed to 'lbfgs' in 0.22. Specify a solver to silence this warning.\n",
      "  FutureWarning)\n"
     ]
    }
   ],
   "source": [
    "#Model Re-Initialization with best parameter and Fitting\n",
    "vote = VotingClassifier([\n",
    "    ('lr', LogisticRegression(C=0.5)),\n",
    "    ('nb', MultinomialNB()),\n",
    "])\n",
    "model = vote.fit(X_train_cvec, y_train)\n",
    "print(model.score(X_train_cvec, y_train))\n",
    "print(model.score(X_test_cvec, y_test))"
   ]
  },
  {
   "cell_type": "code",
   "execution_count": 62,
   "metadata": {},
   "outputs": [
    {
     "data": {
      "text/html": [
       "<div>\n",
       "<style scoped>\n",
       "    .dataframe tbody tr th:only-of-type {\n",
       "        vertical-align: middle;\n",
       "    }\n",
       "\n",
       "    .dataframe tbody tr th {\n",
       "        vertical-align: top;\n",
       "    }\n",
       "\n",
       "    .dataframe thead th {\n",
       "        text-align: right;\n",
       "    }\n",
       "</style>\n",
       "<table border=\"1\" class=\"dataframe\">\n",
       "  <thead>\n",
       "    <tr style=\"text-align: right;\">\n",
       "      <th></th>\n",
       "      <th>Pred FFVII Remake</th>\n",
       "      <th>Pred FFXV</th>\n",
       "    </tr>\n",
       "  </thead>\n",
       "  <tbody>\n",
       "    <tr>\n",
       "      <th>Actual FFVII Remake</th>\n",
       "      <td>116</td>\n",
       "      <td>11</td>\n",
       "    </tr>\n",
       "    <tr>\n",
       "      <th>Actual FFXV</th>\n",
       "      <td>21</td>\n",
       "      <td>138</td>\n",
       "    </tr>\n",
       "  </tbody>\n",
       "</table>\n",
       "</div>"
      ],
      "text/plain": [
       "                     Pred FFVII Remake  Pred FFXV\n",
       "Actual FFVII Remake                116         11\n",
       "Actual FFXV                         21        138"
      ]
     },
     "execution_count": 62,
     "metadata": {},
     "output_type": "execute_result"
    }
   ],
   "source": [
    "pred = model.predict(X_test_cvec)\n",
    "cm = confusion_matrix(y_test, pred)\n",
    "cm_df = pd.DataFrame(cm, columns=['Pred FFVII Remake', 'Pred FFXV'], index=['Actual FFVII Remake', 'Actual FFXV'])\n",
    "cm_df"
   ]
  },
  {
   "cell_type": "markdown",
   "metadata": {},
   "source": [
    "In general, the Voting Classifier's test score is comparable too. There is an improvement in the scoring, particularly in the False Positive score."
   ]
  }
 ],
 "metadata": {
  "kernelspec": {
   "display_name": "Python 3",
   "language": "python",
   "name": "python3"
  },
  "language_info": {
   "codemirror_mode": {
    "name": "ipython",
    "version": 3
   },
   "file_extension": ".py",
   "mimetype": "text/x-python",
   "name": "python",
   "nbconvert_exporter": "python",
   "pygments_lexer": "ipython3",
   "version": "3.7.4"
  }
 },
 "nbformat": 4,
 "nbformat_minor": 2
}
